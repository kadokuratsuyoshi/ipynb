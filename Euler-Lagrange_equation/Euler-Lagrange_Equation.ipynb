{
 "cells": [
  {
   "cell_type": "markdown",
   "id": "217e621a",
   "metadata": {},
   "source": [
    "# Euler-Lagrange Equation"
   ]
  },
  {
   "cell_type": "markdown",
   "id": "70384cbe",
   "metadata": {},
   "source": [
    "$$\n",
    "L = L(q,\\dot{q},t)\n",
    "$$"
   ]
  },
  {
   "cell_type": "markdown",
   "id": "5ae7b850",
   "metadata": {},
   "source": [
    "### Stationary-action principle"
   ]
  },
  {
   "cell_type": "markdown",
   "id": "0aedfb84",
   "metadata": {},
   "source": [
    "$$\n",
    "S = \\int_{t1}^{t2} L(q,\\dot{q},t) dt \\ , \\ \\delta q = 0 \\ , \\ \\dot{q} = \\frac{dq}{dt}\n",
    "$$"
   ]
  },
  {
   "cell_type": "markdown",
   "id": "54976ceb",
   "metadata": {},
   "source": [
    "$$\n",
    "\\delta S = \\int_{t1}^{t2}\n",
    "\\left [\n",
    "\\frac{\\partial L}{\\partial q} \\delta q\n",
    "+ \\frac{\\partial L}{\\partial \\dot{q}} \\delta \\dot{q}\n",
    "\\right ]\n",
    "dt\n",
    "$$"
   ]
  },
  {
   "cell_type": "markdown",
   "id": "2a506315",
   "metadata": {},
   "source": [
    "$$\n",
    " =  \\int_{t1}^{t2} \\left[\n",
    "\\frac{\\partial L}{\\partial q} \\delta q\n",
    "+ \\frac{\\partial L}{\\partial \\dot{q}} \\delta \\frac{dq}{dt}\n",
    "\\right] dt\n",
    "$$"
   ]
  },
  {
   "cell_type": "markdown",
   "id": "f03d9791",
   "metadata": {},
   "source": [
    "$$\n",
    "= \\int_{t1}^{t2} \n",
    "\\frac{\\partial L}{\\partial q} \\delta q\n",
    "dt\n",
    "+\n",
    "\\int _{t1}^{t2} \\frac{\\partial L}{\\partial \\dot{q}} \\frac{d}{dt} \\delta q\n",
    " dt\n",
    "$$"
   ]
  },
  {
   "cell_type": "markdown",
   "id": "62b9c889",
   "metadata": {},
   "source": [
    "$$\n",
    "= \\int_{t1}^{t2}\n",
    "\\left[\n",
    "\\frac{\\partial L}{\\partial q} \n",
    "- \\frac{d}{dt} \\left( \\frac{\\partial L}{\\partial \\dot{q}} \\right)\n",
    "\\right]\n",
    "\\delta q dt\n",
    "+\n",
    "\\left[\n",
    "\\frac{\\partial L}{\\partial \\dot{q}} \\delta q\n",
    "\\right]_{t1}^{t2}\n",
    "$$"
   ]
  },
  {
   "cell_type": "markdown",
   "id": "b7f55a26",
   "metadata": {},
   "source": [
    "$$\n",
    "\\therefore \\frac{\\partial L}{\\partial q} - \\frac{d}{dt} \\frac{\\partial L}{\\partial \\dot{q}} = 0\\ , \\ \\because \\delta q = 0\n",
    "$$"
   ]
  },
  {
   "cell_type": "markdown",
   "id": "78f9bbff",
   "metadata": {},
   "source": [
    "## Harmonic-Oscillator"
   ]
  },
  {
   "cell_type": "markdown",
   "id": "d95fd69b",
   "metadata": {},
   "source": [
    "$$\n",
    "m \\frac{d^2 x}{dt^2} + \\gamma \\frac{dx}{dt} + kx = 0 \\ , \\ \\gamma = 0\n",
    "$$"
   ]
  },
  {
   "cell_type": "markdown",
   "id": "78602db3",
   "metadata": {},
   "source": [
    "$$\n",
    "L = T - U\n",
    "$$\n"
   ]
  },
  {
   "cell_type": "markdown",
   "id": "8ce6aff6",
   "metadata": {},
   "source": [
    "$$\n",
    "T = \\frac{1}{2} m \\left(\\frac{dx}{dt} \\right)^2\n",
    "$$\n"
   ]
  },
  {
   "cell_type": "markdown",
   "id": "6c75295a",
   "metadata": {},
   "source": [
    "$$\n",
    "U = \\frac{1}{2}kx^2\n",
    "$$\n"
   ]
  },
  {
   "cell_type": "markdown",
   "id": "861ad8e0",
   "metadata": {},
   "source": [
    "$$\n",
    "\\therefore L = T - U = \\frac{1}{2} m \\left(\\frac{dx}{dt} \\right)^2 - \\frac{1}{2}kx^2\n",
    "$$\n"
   ]
  },
  {
   "cell_type": "markdown",
   "id": "c2db2db2",
   "metadata": {},
   "source": [
    "$$\n",
    "\\frac{\\partial L}{\\partial q} = \\frac{\\partial}{\\partial q} \\left(-\\frac{1}{2} kx^2 \\right) = -kx\n",
    "$$"
   ]
  },
  {
   "cell_type": "markdown",
   "id": "39571c3c",
   "metadata": {},
   "source": [
    "$$\n",
    "\\frac{\\partial L}{\\partial \\dot{q}} = \\frac{\\partial}{\\partial \\dot{q}} \\left(\\frac{1}{2} m \\dot{x}^2 \\right) = m \\dot{x}\n",
    "$$"
   ]
  },
  {
   "cell_type": "markdown",
   "id": "6d9ad1d3",
   "metadata": {},
   "source": [
    "$$\n",
    "\\frac{d}{dt} \\left( \\frac{\\partial L}{\\partial \\dot{q}} \\right) = \\frac{d}{dt} m \\dot{x} = m \\ddot{x}\n",
    "$$"
   ]
  },
  {
   "cell_type": "markdown",
   "id": "1a8a2f69",
   "metadata": {},
   "source": [
    "$$\n",
    " \\frac{\\partial L}{\\partial q} - \\frac{d}{dt} \\frac{\\partial L}{\\partial \\dot{q}} = -kx - m \\ddot{x} =  0\n",
    "$$"
   ]
  },
  {
   "cell_type": "markdown",
   "id": "99a99f74",
   "metadata": {},
   "source": [
    "$$\n",
    "\\therefore m \\ddot{x} = -kx\n",
    "$$"
   ]
  },
  {
   "cell_type": "markdown",
   "id": "29602039",
   "metadata": {},
   "source": [
    "$$\n",
    "m \\frac{d^2 x}{dt^2} = -kx\n",
    "$$"
   ]
  },
  {
   "cell_type": "markdown",
   "id": "dae1c803",
   "metadata": {},
   "source": [
    "$$\n",
    "\\frac{d^2 x}{dt^2} = ( i \\omega )^2 x , \\ \\omega^2 = \\frac{k}{m}\n",
    "$$"
   ]
  },
  {
   "cell_type": "markdown",
   "id": "b4c8006e",
   "metadata": {},
   "source": [
    "$$\n",
    "\\frac{dx}{dt} \\left( \\frac{d^2x}{dt^2} \\right) = \\frac{dx}{dt} (i \\omega)^2 x\n",
    "$$"
   ]
  },
  {
   "cell_type": "markdown",
   "id": "7ca18654",
   "metadata": {},
   "source": [
    "$$\n",
    "\\frac{d}{dt} \\left( \\frac{dx}{dt} \\right)^2 = \\frac{d}{dt} (i \\omega x)^2\n",
    "$$"
   ]
  },
  {
   "cell_type": "markdown",
   "id": "8b98efa8",
   "metadata": {},
   "source": [
    "$$\n",
    "\\frac{dx}{dt} = i \\omega x\n",
    "$$"
   ]
  },
  {
   "cell_type": "markdown",
   "id": "3255ff58",
   "metadata": {},
   "source": [
    "$$\n",
    "\\int \\frac{1}{x} dx = i \\omega \\int dt\n",
    "$$"
   ]
  },
  {
   "cell_type": "markdown",
   "id": "ae20cfd5",
   "metadata": {},
   "source": [
    "$$\n",
    "\\log |x| = i \\omega t + C \\ , \\ C = \\textrm{arbitrary const.}\n",
    "$$"
   ]
  },
  {
   "cell_type": "markdown",
   "id": "53d3130b",
   "metadata": {},
   "source": [
    "$$\n",
    "\\therefore x(t) = x_0 e^{i \\omega t} \\ , \\ x_0 = \\pm e^C\n",
    "$$"
   ]
  },
  {
   "cell_type": "markdown",
   "id": "b9db9c0d",
   "metadata": {},
   "source": [
    "$$\n",
    "v(t) = \\frac{d}{dt} x(t) = i \\omega x_0 e^{i \\omega t} , \\ \\arg(i) = \\frac{\\pi}{2}\n",
    "$$"
   ]
  },
  {
   "cell_type": "code",
   "execution_count": null,
   "id": "b42aaef7",
   "metadata": {},
   "outputs": [],
   "source": []
  }
 ],
 "metadata": {
  "kernelspec": {
   "display_name": "Python 3",
   "language": "python",
   "name": "python3"
  },
  "language_info": {
   "codemirror_mode": {
    "name": "ipython",
    "version": 3
   },
   "file_extension": ".py",
   "mimetype": "text/x-python",
   "name": "python",
   "nbconvert_exporter": "python",
   "pygments_lexer": "ipython3",
   "version": "3.8.8"
  }
 },
 "nbformat": 4,
 "nbformat_minor": 5
}
