{
 "cells": [
  {
   "cell_type": "markdown",
   "id": "43c55bc5",
   "metadata": {},
   "source": [
    "# Euler-Lagrange Equation"
   ]
  },
  {
   "cell_type": "markdown",
   "id": "11ba87af",
   "metadata": {},
   "source": [
    "$$\n",
    "L = L(q,\\dot{q},t)\n",
    "$$"
   ]
  },
  {
   "cell_type": "markdown",
   "id": "2983e3c5",
   "metadata": {},
   "source": [
    "### Stationary-action principle"
   ]
  },
  {
   "cell_type": "markdown",
   "id": "f05ba198",
   "metadata": {},
   "source": [
    "$$\n",
    "S = \\int_{t1}^{t2} L(q,\\dot{q},t) dt \\ , \\ \\delta q = 0 \\ , \\ \\dot{q} = \\frac{dq}{dt}\n",
    "$$"
   ]
  },
  {
   "cell_type": "markdown",
   "id": "5ffad91f",
   "metadata": {},
   "source": [
    "$$\n",
    "\\delta S = \\int_{t1}^{t2}\n",
    "\\left [\n",
    "\\frac{\\partial L}{\\partial q} \\delta q\n",
    "+ \\frac{\\partial L}{\\partial \\dot{q}} \\delta \\dot{q}\n",
    "\\right ]\n",
    "dt\n",
    "$$"
   ]
  },
  {
   "cell_type": "markdown",
   "id": "5c0d4f86",
   "metadata": {},
   "source": [
    "$$\n",
    " =  \\int_{t1}^{t2} \\left[\n",
    "\\frac{\\partial L}{\\partial q} \\delta q\n",
    "+ \\frac{\\partial L}{\\partial \\dot{q}} \\delta \\frac{dq}{dt}\n",
    "\\right] dt\n",
    "$$"
   ]
  },
  {
   "cell_type": "markdown",
   "id": "16928846",
   "metadata": {},
   "source": [
    "$$\n",
    "= \\int_{t1}^{t2} \n",
    "\\frac{\\partial L}{\\partial q} \\delta q\n",
    "dt\n",
    "+\n",
    "\\int _{t1}^{t2} \\frac{\\partial L}{\\partial \\dot{q}} \\frac{d}{dt} \\delta q\n",
    " dt\n",
    "$$"
   ]
  },
  {
   "cell_type": "markdown",
   "id": "ef8db3ec",
   "metadata": {},
   "source": [
    "$$\n",
    "= \\int_{t1}^{t2}\n",
    "\\left[\n",
    "\\frac{\\partial L}{\\partial q} \n",
    "- \\frac{d}{dt} \\left( \\frac{\\partial L}{\\partial \\dot{q}} \\right)\n",
    "\\right]\n",
    "\\delta q dt\n",
    "+\n",
    "\\left[\n",
    "\\frac{\\partial L}{\\partial \\dot{q}} \\delta q\n",
    "\\right]_{t1}^{t2}\n",
    "$$"
   ]
  },
  {
   "cell_type": "markdown",
   "id": "2b66a568",
   "metadata": {},
   "source": [
    "$$\n",
    "\\therefore \\frac{\\partial L}{\\partial q} - \\frac{d}{dt} \\frac{\\partial L}{\\partial \\dot{q}} = 0\\ , \\ \\because \\delta q = 0\n",
    "$$"
   ]
  },
  {
   "cell_type": "markdown",
   "id": "703e9d11",
   "metadata": {},
   "source": [
    "## Harmonic-Oscillator"
   ]
  },
  {
   "cell_type": "markdown",
   "id": "cd50fa05",
   "metadata": {},
   "source": [
    "$$\n",
    "m \\frac{d^2 x}{dt^2} + \\gamma \\frac{dx}{dt} + kx = 0 \\ , \\ \\gamma = 0\n",
    "$$"
   ]
  },
  {
   "cell_type": "markdown",
   "id": "1b3fac6f",
   "metadata": {},
   "source": [
    "$$\n",
    "L = T - U\n",
    "$$\n"
   ]
  },
  {
   "cell_type": "markdown",
   "id": "fd6425e2",
   "metadata": {},
   "source": [
    "$$\n",
    "T = \\frac{1}{2} m \\left(\\frac{dx}{dt} \\right)^2\n",
    "$$\n"
   ]
  },
  {
   "cell_type": "markdown",
   "id": "89da72db",
   "metadata": {},
   "source": [
    "$$\n",
    "U = \\frac{1}{2}kx^2\n",
    "$$\n"
   ]
  },
  {
   "cell_type": "markdown",
   "id": "7918226b",
   "metadata": {},
   "source": [
    "$$\n",
    "\\therefore L = T - U = \\frac{1}{2} m \\left(\\frac{dx}{dt} \\right)^2 - \\frac{1}{2}kx^2\n",
    "$$\n"
   ]
  },
  {
   "cell_type": "markdown",
   "id": "8a4f7cea",
   "metadata": {},
   "source": [
    "$$\n",
    "\\frac{\\partial L}{\\partial q} = \\frac{\\partial}{\\partial q} \\left(-\\frac{1}{2} kx^2 \\right) = -kx\n",
    "$$"
   ]
  },
  {
   "cell_type": "markdown",
   "id": "8750bd1e",
   "metadata": {},
   "source": [
    "$$\n",
    "\\frac{\\partial L}{\\partial \\dot{q}} = \\frac{\\partial}{\\partial \\dot{q}} \\left(\\frac{1}{2} m \\dot{x}^2 \\right) = m \\dot{x}\n",
    "$$"
   ]
  },
  {
   "cell_type": "markdown",
   "id": "608fc98c",
   "metadata": {},
   "source": [
    "$$\n",
    "\\frac{d}{dt} \\left( \\frac{\\partial L}{\\partial \\dot{q}} \\right) = \\frac{d}{dt} m \\dot{x} = m \\ddot{x}\n",
    "$$"
   ]
  },
  {
   "cell_type": "markdown",
   "id": "5f20e001",
   "metadata": {},
   "source": [
    "$$\n",
    " \\frac{\\partial L}{\\partial q} - \\frac{d}{dt} \\frac{\\partial L}{\\partial \\dot{q}} = -kx - m \\ddot{x} =  0\n",
    "$$"
   ]
  },
  {
   "cell_type": "markdown",
   "id": "bd4d6e25",
   "metadata": {},
   "source": [
    "$$\n",
    "\\therefore m \\ddot{x} = -kx\n",
    "$$"
   ]
  },
  {
   "cell_type": "markdown",
   "id": "26a6d9c5",
   "metadata": {},
   "source": [
    "$$\n",
    "m \\frac{d^2 x}{dt^2} = -kx\n",
    "$$"
   ]
  },
  {
   "cell_type": "markdown",
   "id": "8e8a1a94",
   "metadata": {},
   "source": [
    "$$\n",
    "\\frac{d^2 x}{dt^2} = ( i \\omega )^2 x , \\ \\omega^2 = \\frac{k}{m}\n",
    "$$"
   ]
  },
  {
   "cell_type": "markdown",
   "id": "f33a388f",
   "metadata": {},
   "source": [
    "$$\n",
    "\\frac{dx}{dt} \\left( \\frac{d^2x}{dt^2} \\right) = \\frac{dx}{dt} (i \\omega)^2 x\n",
    "$$"
   ]
  },
  {
   "cell_type": "markdown",
   "id": "125d2662",
   "metadata": {},
   "source": [
    "$$\n",
    "\\frac{d}{dt} \\left( \\frac{dx}{dt} \\right)^2 = \\frac{d}{dt} (i \\omega x)^2\n",
    "$$"
   ]
  },
  {
   "cell_type": "markdown",
   "id": "5498330d",
   "metadata": {},
   "source": [
    "$$\n",
    "\\frac{dx}{dt} = i \\omega x\n",
    "$$"
   ]
  },
  {
   "cell_type": "markdown",
   "id": "c083b9f4",
   "metadata": {},
   "source": [
    "$$\n",
    "\\frac{1}{x} dx = i \\omega dt\n",
    "$$"
   ]
  },
  {
   "cell_type": "markdown",
   "id": "e1a1c60f",
   "metadata": {},
   "source": [
    "$$\n",
    "\\log |x| = i \\omega t\n",
    "$$"
   ]
  },
  {
   "cell_type": "markdown",
   "id": "8ca489fa",
   "metadata": {},
   "source": [
    "$$\n",
    "\\therefore x(t) = x_0 e^{i \\omega t}\n",
    "$$"
   ]
  },
  {
   "cell_type": "markdown",
   "id": "a7b3cb76",
   "metadata": {},
   "source": [
    "$$\n",
    "v(t) = \\frac{d}{dt} x(t) = i \\omega x_0 e^{i \\omega t} , \\ \\arg(i) = \\frac{\\pi}{2}\n",
    "$$"
   ]
  },
  {
   "cell_type": "code",
   "execution_count": null,
   "id": "029415f1",
   "metadata": {},
   "outputs": [],
   "source": []
  }
 ],
 "metadata": {
  "kernelspec": {
   "display_name": "Python 3",
   "language": "python",
   "name": "python3"
  },
  "language_info": {
   "codemirror_mode": {
    "name": "ipython",
    "version": 3
   },
   "file_extension": ".py",
   "mimetype": "text/x-python",
   "name": "python",
   "nbconvert_exporter": "python",
   "pygments_lexer": "ipython3",
   "version": "3.8.8"
  }
 },
 "nbformat": 4,
 "nbformat_minor": 5
}
