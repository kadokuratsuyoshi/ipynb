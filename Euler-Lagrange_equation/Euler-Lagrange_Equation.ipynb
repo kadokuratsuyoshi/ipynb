{
 "cells": [
  {
   "cell_type": "markdown",
   "id": "639e507d",
   "metadata": {},
   "source": [
    "# Euler-Lagrange Equation"
   ]
  },
  {
   "cell_type": "markdown",
   "id": "196bb109",
   "metadata": {},
   "source": [
    "$$\n",
    "L = L(q,\\dot{q},t)\n",
    "$$"
   ]
  },
  {
   "cell_type": "markdown",
   "id": "62dad645",
   "metadata": {},
   "source": [
    "### Stationary-action principle"
   ]
  },
  {
   "cell_type": "markdown",
   "id": "91a945c0",
   "metadata": {},
   "source": [
    "$$\n",
    "S = \\int_{t1}^{t2} L(q,\\dot{q},t) dt \\ , \\ \\delta q = 0 \\ , \\ \\dot{q} = \\frac{dq}{dt}\n",
    "$$"
   ]
  },
  {
   "cell_type": "markdown",
   "id": "326fb613",
   "metadata": {},
   "source": [
    "$$\n",
    "\\delta S = \\int_{t1}^{t2}\n",
    "\\left [\n",
    "\\frac{\\partial L}{\\partial q} \\delta q\n",
    "+ \\frac{\\partial L}{\\partial \\dot{q}} \\delta \\dot{q}\n",
    "\\right ]\n",
    "dt\n",
    "$$"
   ]
  },
  {
   "cell_type": "markdown",
   "id": "7379b3d1",
   "metadata": {},
   "source": [
    "$$\n",
    " =  \\int_{t1}^{t2} \\left[\n",
    "\\frac{\\partial L}{\\partial q} \\delta q\n",
    "+ \\frac{\\partial L}{\\partial \\dot{q}} \\delta \\frac{dq}{dt}\n",
    "\\right] dt\n",
    "$$"
   ]
  },
  {
   "cell_type": "markdown",
   "id": "864af0bd",
   "metadata": {},
   "source": [
    "$$\n",
    "= \\int_{t1}^{t2} \n",
    "\\frac{\\partial L}{\\partial q} \\delta q\n",
    "dt\n",
    "+\n",
    "\\int _{t1}^{t2} \\frac{\\partial L}{\\partial \\dot{q}} \\frac{d}{dt} \\delta q\n",
    " dt\n",
    "$$"
   ]
  },
  {
   "cell_type": "markdown",
   "id": "848d7dc8",
   "metadata": {},
   "source": [
    "$$\n",
    "= \\int_{t1}^{t2}\n",
    "\\left[\n",
    "\\frac{\\partial L}{\\partial q} \n",
    "- \\frac{d}{dt} \\left( \\frac{\\partial L}{\\partial \\dot{q}} \\right)\n",
    "\\right]\n",
    "\\delta q dt\n",
    "+\n",
    "\\left[\n",
    "\\frac{\\partial L}{\\partial \\dot{q}} \\delta q\n",
    "\\right]_{t1}^{t2}\n",
    "$$"
   ]
  },
  {
   "cell_type": "markdown",
   "id": "01fc87a8",
   "metadata": {},
   "source": [
    "$$\n",
    "\\therefore \\frac{\\partial L}{\\partial q} - \\frac{d}{dt} \\frac{\\partial L}{\\partial \\dot{q}} = 0\\ , \\ \\because \\delta q = 0\n",
    "$$"
   ]
  },
  {
   "cell_type": "markdown",
   "id": "4588c5ac",
   "metadata": {},
   "source": [
    "## Harmonic-Oscillator"
   ]
  },
  {
   "cell_type": "markdown",
   "id": "1c27a08c",
   "metadata": {},
   "source": [
    "$$\n",
    "m \\frac{d^2 x}{dt^2} + \\gamma \\frac{dx}{dt} + kx = 0 \\ , \\ \\gamma = 0\n",
    "$$"
   ]
  },
  {
   "cell_type": "markdown",
   "id": "5003bd62",
   "metadata": {},
   "source": [
    "$$\n",
    "L = T - U\n",
    "$$\n"
   ]
  },
  {
   "cell_type": "markdown",
   "id": "3aa20f14",
   "metadata": {},
   "source": [
    "$$\n",
    "T = \\frac{1}{2} m \\left(\\frac{dx}{dt} \\right)^2\n",
    "$$\n"
   ]
  },
  {
   "cell_type": "markdown",
   "id": "055c1efa",
   "metadata": {},
   "source": [
    "$$\n",
    "U = \\frac{1}{2}kx^2\n",
    "$$\n"
   ]
  },
  {
   "cell_type": "markdown",
   "id": "f74aad3e",
   "metadata": {},
   "source": [
    "$$\n",
    "\\therefore L = T - U = \\frac{1}{2} m \\left(\\frac{dx}{dt} \\right)^2 - \\frac{1}{2}kx^2\n",
    "$$\n"
   ]
  },
  {
   "cell_type": "markdown",
   "id": "6b370872",
   "metadata": {},
   "source": [
    "$$\n",
    "\\frac{\\partial L}{\\partial q} = \\frac{\\partial}{\\partial q} \\left(-\\frac{1}{2} kx^2 \\right) = -kx\n",
    "$$"
   ]
  },
  {
   "cell_type": "markdown",
   "id": "f8ce42e6",
   "metadata": {},
   "source": [
    "$$\n",
    "\\frac{\\partial L}{\\partial \\dot{q}} = \\frac{\\partial}{\\partial \\dot{q}} \\left(\\frac{1}{2} m \\dot{x}^2 \\right) = m \\dot{x}\n",
    "$$"
   ]
  },
  {
   "cell_type": "markdown",
   "id": "950d7384",
   "metadata": {},
   "source": [
    "$$\n",
    "\\frac{d}{dt} \\left( \\frac{\\partial L}{\\partial \\dot{q}} \\right) = \\frac{d}{dt} m \\dot{x} = m \\ddot{x}\n",
    "$$"
   ]
  },
  {
   "cell_type": "markdown",
   "id": "d645fa8d",
   "metadata": {},
   "source": [
    "$$\n",
    " \\frac{\\partial L}{\\partial q} - \\frac{d}{dt} \\frac{\\partial L}{\\partial \\dot{q}} = -kx - m \\ddot{x} =  0\n",
    "$$"
   ]
  },
  {
   "cell_type": "markdown",
   "id": "72752237",
   "metadata": {},
   "source": [
    "$$\n",
    "\\therefore m \\ddot{x} = -kx\n",
    "$$"
   ]
  },
  {
   "cell_type": "markdown",
   "id": "2493377f",
   "metadata": {},
   "source": [
    "$$\n",
    "m \\frac{d^2 x}{dt^2} = -kx\n",
    "$$"
   ]
  },
  {
   "cell_type": "markdown",
   "id": "685b3d72",
   "metadata": {},
   "source": [
    "$$\n",
    "\\frac{d^2 x}{dt^2} = ( i \\omega )^2 x , \\ \\omega^2 = \\frac{k}{m}\n",
    "$$"
   ]
  },
  {
   "cell_type": "markdown",
   "id": "74128491",
   "metadata": {},
   "source": [
    "$$\n",
    "\\frac{dx}{dt} \\left( \\frac{d^2x}{dt^2} \\right) = \\frac{dx}{dt} (i \\omega)^2 x\n",
    "$$"
   ]
  },
  {
   "cell_type": "markdown",
   "id": "cda98252",
   "metadata": {},
   "source": [
    "$$\n",
    "\\frac{d}{dt} \\left( \\frac{dx}{dt} \\right)^2 = \\frac{d}{dt} (i \\omega x)^2\n",
    "$$"
   ]
  },
  {
   "cell_type": "markdown",
   "id": "e68a77d3",
   "metadata": {},
   "source": [
    "$$\n",
    "\\frac{dx}{dt} = i \\omega x\n",
    "$$"
   ]
  },
  {
   "cell_type": "markdown",
   "id": "d3a80c6b",
   "metadata": {},
   "source": [
    "$$\n",
    "\\frac{1}{x} dx = i \\omega dt\n",
    "$$"
   ]
  },
  {
   "cell_type": "markdown",
   "id": "b45e29af",
   "metadata": {},
   "source": [
    "$$\n",
    "\\log |x| = i \\omega t\n",
    "$$"
   ]
  },
  {
   "cell_type": "markdown",
   "id": "8a7c86ae",
   "metadata": {},
   "source": [
    "$$\n",
    "\\therefore x(t) = x_0 e^{i \\omega t}\n",
    "$$"
   ]
  },
  {
   "cell_type": "markdown",
   "id": "def6db2f",
   "metadata": {},
   "source": [
    "$$\n",
    "v(t) = \\frac{d}{dt} x(t) = i \\omega x_0 e^{i \\omega t} , \\ i = \\frac{\\pi}{2}\n",
    "$$"
   ]
  },
  {
   "cell_type": "code",
   "execution_count": null,
   "id": "0d932c80",
   "metadata": {},
   "outputs": [],
   "source": []
  }
 ],
 "metadata": {
  "kernelspec": {
   "display_name": "Python 3",
   "language": "python",
   "name": "python3"
  },
  "language_info": {
   "codemirror_mode": {
    "name": "ipython",
    "version": 3
   },
   "file_extension": ".py",
   "mimetype": "text/x-python",
   "name": "python",
   "nbconvert_exporter": "python",
   "pygments_lexer": "ipython3",
   "version": "3.8.8"
  }
 },
 "nbformat": 4,
 "nbformat_minor": 5
}
