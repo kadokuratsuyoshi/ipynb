{
 "cells": [
  {
   "cell_type": "markdown",
   "id": "26f24352",
   "metadata": {},
   "source": [
    "# Euler-Lagrange Equation"
   ]
  },
  {
   "cell_type": "markdown",
   "id": "6613d51d",
   "metadata": {},
   "source": [
    "$$\n",
    "L = L(q,\\dot{q},t)\n",
    "$$"
   ]
  },
  {
   "cell_type": "markdown",
   "id": "6ad2225e",
   "metadata": {},
   "source": [
    "### Stationary-action principle"
   ]
  },
  {
   "cell_type": "markdown",
   "id": "a15dafef",
   "metadata": {},
   "source": [
    "$$\n",
    "S = \\int_{t1}^{t2} L(q,\\dot{q},t) dt \\ , \\ \\delta q = 0 \\ , \\ \\dot{q} = \\frac{dq}{dt}\n",
    "$$"
   ]
  },
  {
   "cell_type": "markdown",
   "id": "f4aa93bf",
   "metadata": {},
   "source": [
    "$$\n",
    "\\delta S = \\int_{t1}^{t2}\n",
    "\\left [\n",
    "\\frac{\\partial L}{\\partial q} \\delta q\n",
    "+ \\frac{\\partial L}{\\partial \\dot{q}} \\delta \\dot{q}\n",
    "\\right ]\n",
    "dt\n",
    "\\\\\n",
    "= \\int_{t1}^{t2} \\left[\n",
    "\\frac{\\partial L}{\\partial q} \\delta q\n",
    "+ \\frac{\\partial L}{\\partial \\dot{q}} \\delta \\frac{dq}{dt}\n",
    "\\right] dt\n",
    "\\\\\n",
    "= \\int_{t1}^{t2} \n",
    "\\frac{\\partial L}{\\partial q} \\delta q\n",
    "dt\n",
    "+\n",
    "\\int _{t1}^{t2} \\frac{\\partial L}{\\partial \\dot{q}} \\frac{d}{dt} \\delta q\n",
    " dt\n",
    "\\\\\n",
    "= \\int_{t1}^{t2}\n",
    "\\left[\n",
    "\\frac{\\partial L}{\\partial q} \n",
    "- \\frac{d}{dt} \\left( \\frac{\\partial L}{\\partial \\dot{q}} \\right)\n",
    "\\right]\n",
    "\\delta q dt\n",
    "+\n",
    "\\left[\n",
    "\\frac{\\partial L}{\\partial \\dot{q}} \\delta q\n",
    "\\right]_{t1}^{t2}\n",
    "$$"
   ]
  },
  {
   "cell_type": "markdown",
   "id": "94a5e7cf",
   "metadata": {},
   "source": [
    "$$\n",
    "\\therefore \\frac{\\partial L}{\\partial q} - \\frac{d}{dt} \\frac{\\partial L}{\\partial \\dot{q}} = 0\\ , \\ \\because \\delta q = 0\n",
    "$$"
   ]
  },
  {
   "cell_type": "markdown",
   "id": "b3a54792",
   "metadata": {},
   "source": [
    "## Harmonic-Oscillator"
   ]
  },
  {
   "cell_type": "markdown",
   "id": "cc162e49",
   "metadata": {},
   "source": [
    "$$\n",
    "m \\frac{d^2 x}{dt^2} + \\gamma \\frac{dx}{dt} + kx = 0 \\ , \\ \\gamma = 0\n",
    "$$"
   ]
  },
  {
   "cell_type": "markdown",
   "id": "94017515",
   "metadata": {},
   "source": [
    "$$\n",
    "L = T - U\n",
    "\\\\\n",
    "T = \\frac{1}{2} m \\left(\\frac{dx}{dt} \\right)^2\n",
    "\\\\\n",
    "U = \\frac{1}{2}kx^2\n",
    "\\\\\n",
    "\\therefore L = T - U = \\frac{1}{2} m \\left(\\frac{dx}{dt} \\right)^2 - \\frac{1}{2}kx^2\n",
    "$$\n"
   ]
  },
  {
   "cell_type": "markdown",
   "id": "d4bb0c2f",
   "metadata": {},
   "source": [
    "$$\n",
    "\\frac{\\partial L}{\\partial q} = \\frac{\\partial}{\\partial q} \\left(-\\frac{1}{2} kx^2 \\right) = -kx\n",
    "$$"
   ]
  },
  {
   "cell_type": "markdown",
   "id": "2c9c6d46",
   "metadata": {},
   "source": [
    "$$\n",
    "\\frac{\\partial L}{\\partial \\dot{q}} = \\frac{\\partial}{\\partial \\dot{q}} \\left(\\frac{1}{2} m \\dot{x}^2 \\right) = m \\dot{x}\n",
    "$$"
   ]
  },
  {
   "cell_type": "markdown",
   "id": "5c94db9a",
   "metadata": {},
   "source": [
    "$$\n",
    "\\frac{d}{dt} \\left( \\frac{\\partial L}{\\partial \\dot{q}} \\right) = \\frac{d}{dt} m \\dot{x} = m \\ddot{x}\n",
    "$$"
   ]
  },
  {
   "cell_type": "markdown",
   "id": "83ad7aae",
   "metadata": {},
   "source": [
    "$$\n",
    " \\frac{\\partial L}{\\partial q} - \\frac{d}{dt} \\frac{\\partial L}{\\partial \\dot{q}} = -kx - m \\ddot{x} =  0\n",
    "$$"
   ]
  },
  {
   "cell_type": "markdown",
   "id": "75e796a5",
   "metadata": {},
   "source": [
    "$$\n",
    "\\therefore m \\ddot{x} = -kx\n",
    "$$"
   ]
  },
  {
   "cell_type": "markdown",
   "id": "39f728f8",
   "metadata": {},
   "source": [
    "$$\n",
    "m \\frac{d^2 x}{dt^2} = -kx\n",
    "$$"
   ]
  },
  {
   "cell_type": "markdown",
   "id": "9792f99a",
   "metadata": {},
   "source": [
    "$$\n",
    "\\frac{d^2 x}{dt^2} = ( i \\omega )^2 x , \\ \\omega^2 = \\frac{k}{m}\n",
    "$$"
   ]
  },
  {
   "cell_type": "markdown",
   "id": "a7a8fe73",
   "metadata": {},
   "source": [
    "$$\n",
    "\\frac{dx}{dt} \\left( \\frac{d^2x}{dt^2} \\right) = \\frac{dx}{dt} (i \\omega)^2 x\n",
    "\\\\\n",
    "\\frac{d}{dt} \\left( \\frac{dx}{dt} \\right)^2 = \\frac{d}{dt} (i \\omega x)^2\n",
    "$$"
   ]
  },
  {
   "cell_type": "markdown",
   "id": "303a010d",
   "metadata": {},
   "source": [
    "$$\n",
    "\\frac{dx}{dt} = i \\omega x\n",
    "\\\\\n",
    "\\frac{1}{x} dx = i \\omega dt\n",
    "\\\\\n",
    "\\log |x| = i \\omega t\n",
    "\\\\\n",
    "\\therefore x(t) = x_0 e^{i \\omega t}\n",
    "$$"
   ]
  },
  {
   "cell_type": "code",
   "execution_count": null,
   "id": "a649fbc2",
   "metadata": {},
   "outputs": [],
   "source": []
  }
 ],
 "metadata": {
  "kernelspec": {
   "display_name": "Python 3",
   "language": "python",
   "name": "python3"
  },
  "language_info": {
   "codemirror_mode": {
    "name": "ipython",
    "version": 3
   },
   "file_extension": ".py",
   "mimetype": "text/x-python",
   "name": "python",
   "nbconvert_exporter": "python",
   "pygments_lexer": "ipython3",
   "version": "3.8.8"
  }
 },
 "nbformat": 4,
 "nbformat_minor": 5
}
