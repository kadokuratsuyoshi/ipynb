{
 "cells": [
  {
   "cell_type": "markdown",
   "id": "b423ac2f",
   "metadata": {},
   "source": [
    "# 無次元数：Dimensionless Number"
   ]
  },
  {
   "cell_type": "markdown",
   "id": "0e8c750f",
   "metadata": {},
   "source": [
    "### 1.Archimedes number"
   ]
  },
  {
   "cell_type": "markdown",
   "id": "37756d15",
   "metadata": {},
   "source": [
    "##### アルキメデス数：水流のもつ浮力と運動量の割合"
   ]
  },
  {
   "cell_type": "markdown",
   "id": "c5137011",
   "metadata": {},
   "source": [
    "$\n",
    "\\begin{eqnarray}\n",
    "\\textrm{Ar} = \\frac{\\rho_s g L^3(\\rho_s - \\rho)}{\\mu^2} \\rightarrow \\frac{\\textrm{Gravitational force}}{\\textrm{Viscous fource}}\n",
    "\\end{eqnarray}\n",
    "$"
   ]
  },
  {
   "cell_type": "markdown",
   "id": "58d3c898",
   "metadata": {},
   "source": [
    "### 2. Aspect ratio"
   ]
  },
  {
   "cell_type": "markdown",
   "id": "1d671841",
   "metadata": {},
   "source": [
    "##### アスペクト比：矩形における長辺と短辺の比率"
   ]
  },
  {
   "cell_type": "markdown",
   "id": "b1bbe7d6",
   "metadata": {},
   "source": [
    "$\n",
    "\\begin{eqnarray}\n",
    "\\textrm{AR} = \\frac{L}{W} \\textrm{or} \\frac{L}{D} \\rightarrow \\frac{\\textrm{Length}}{\\textrm{Width}} \\textrm{or} \\frac{\\textrm{Length}}{\\textrm{Diameter}}\n",
    "\\end{eqnarray}\n",
    "$"
   ]
  },
  {
   "cell_type": "markdown",
   "id": "8a26f9dc",
   "metadata": {},
   "source": [
    "### 3. Atwood number"
   ]
  },
  {
   "cell_type": "markdown",
   "id": "0705cf39",
   "metadata": {},
   "source": [
    "##### アトウッド数：密度差による不安定性の発現"
   ]
  },
  {
   "cell_type": "markdown",
   "id": "b359b3bc",
   "metadata": {},
   "source": [
    "$\n",
    "\\begin{eqnarray}\n",
    "\\textrm{A} = \\frac{\\rho_1 - \\rho_2}{\\rho_1 + \\rho_2}\n",
    "\\end{eqnarray}\n",
    "$"
   ]
  },
  {
   "cell_type": "markdown",
   "id": "84f2bf2c",
   "metadata": {},
   "source": [
    "### 4. Bejan number"
   ]
  },
  {
   "cell_type": "markdown",
   "id": "2428e5c9",
   "metadata": {},
   "source": [
    "##### べジャン数：水路に沿った圧力降下"
   ]
  },
  {
   "cell_type": "markdown",
   "id": "a3ff020d",
   "metadata": {},
   "source": [
    "$\n",
    "\\begin{eqnarray}\n",
    "\\textrm{Be} = \\frac{\\Delta p L^2}{\\mu \\alpha}\n",
    "\\end{eqnarray}\n",
    "$"
   ]
  },
  {
   "cell_type": "markdown",
   "id": "bdf1343c",
   "metadata": {},
   "source": [
    "$\n",
    "\\begin{eqnarray}\n",
    "\\Delta p & : & 圧力勾配(1/s^2)\n",
    "\\\\\n",
    "L & : & 特性長さ(m)\n",
    "\\\\\n",
    "\\mu & : & 動粘性係数(m^2/s)\n",
    "\\\\\n",
    "\\alpha & : & 熱拡散率、質量拡散率(m^2/s)\n",
    "\\end{eqnarray}\n",
    "$"
   ]
  },
  {
   "cell_type": "markdown",
   "id": "aafcaa17",
   "metadata": {},
   "source": [
    "### 5. Bingham number"
   ]
  },
  {
   "cell_type": "markdown",
   "id": "01234bfa",
   "metadata": {},
   "source": [
    "### 6. Biot number"
   ]
  },
  {
   "cell_type": "markdown",
   "id": "d89566bc",
   "metadata": {},
   "source": [
    "##### ビオ数：伝熱に関する無次元量。固体内部の熱伝導と固体表面からの熱伝達量の割合"
   ]
  },
  {
   "cell_type": "markdown",
   "id": "9377677f",
   "metadata": {},
   "source": [
    "$\n",
    "\\begin{eqnarray}\n",
    "\\textrm{Bi} = \\frac{h L}{k} \\rightarrow \\frac{\\textrm{Surface thermal resistance}}{\\textrm{Internal thermal resistance}}\n",
    "\\end{eqnarray}\n",
    "$"
   ]
  },
  {
   "cell_type": "markdown",
   "id": "a60c1fbe",
   "metadata": {},
   "source": [
    "### 7. Blake number"
   ]
  },
  {
   "cell_type": "markdown",
   "id": "250dfd1f",
   "metadata": {},
   "source": [
    "### 8. Bond number"
   ]
  },
  {
   "cell_type": "markdown",
   "id": "c508c95a",
   "metadata": {},
   "source": [
    "##### ボンド数：浮力と毛管力の割合、浮力と表面張力の割合、液中の液滴、気泡などの解析に用いられる、エトベス(Et\\\"ov\\\"os number)数"
   ]
  },
  {
   "cell_type": "markdown",
   "id": "f597a213",
   "metadata": {},
   "source": [
    "$\n",
    "\\begin{eqnarray}\n",
    "\\textrm{Bo} = \\frac{a \\rho  L^2}{\\gamma} = \\frac{g (\\rho_f - \\rho_v) L^2}{\\sigma_s} \\rightarrow \\frac{\\textrm{Gravitational force}}{\\textrm{Surface tension force}}\n",
    "\\end{eqnarray}\n",
    "$"
   ]
  },
  {
   "cell_type": "markdown",
   "id": "ef75acc8",
   "metadata": {},
   "source": [
    "### 9. Brinkman number"
   ]
  },
  {
   "cell_type": "markdown",
   "id": "a1178386",
   "metadata": {},
   "source": [
    "### 10. Brownell-Katz number"
   ]
  },
  {
   "cell_type": "markdown",
   "id": "efb733ad",
   "metadata": {},
   "source": [
    "### 11. Capillary number"
   ]
  },
  {
   "cell_type": "markdown",
   "id": "0f5b4e2f",
   "metadata": {},
   "source": [
    "### 12. Cavitation number"
   ]
  },
  {
   "cell_type": "markdown",
   "id": "4e642781",
   "metadata": {},
   "source": [
    "##### キャビテーション数：主にポンプ、配水管、油圧機器など、液体を用いる流体機器の解析で用いられる"
   ]
  },
  {
   "cell_type": "markdown",
   "id": "14192d71",
   "metadata": {},
   "source": [
    "$\n",
    "\\begin{eqnarray}\n",
    "\\textrm{Ca} = \\frac{P - P_v}{\\rho v^2} \\rightarrow \\frac{\\textrm{Pressure} - \\textrm{Vapor pressure}}{\\textrm{Inertial pressure}}\n",
    "\\end{eqnarray}\n",
    "$"
   ]
  },
  {
   "cell_type": "markdown",
   "id": "0ddfdbd9",
   "metadata": {},
   "source": [
    "### 13. Chandrasekhar number"
   ]
  },
  {
   "cell_type": "markdown",
   "id": "1309b5dc",
   "metadata": {},
   "source": [
    "### 14. Colburn  J factors"
   ]
  },
  {
   "cell_type": "markdown",
   "id": "7e83803c",
   "metadata": {},
   "source": [
    "### 15. Darcy friction factor"
   ]
  },
  {
   "cell_type": "markdown",
   "id": "7c5d9a28",
   "metadata": {},
   "source": [
    "### 摩擦損失係数："
   ]
  },
  {
   "cell_type": "markdown",
   "id": "6ce13767",
   "metadata": {},
   "source": [
    "### 16. Drag coefficient"
   ]
  },
  {
   "cell_type": "markdown",
   "id": "ea01f0b2",
   "metadata": {},
   "source": [
    "##### 抗力係数：空気や水などの流体環境で物体の抗力または抵抗を定量化するための無次元量"
   ]
  },
  {
   "cell_type": "markdown",
   "id": "e129aa16",
   "metadata": {},
   "source": [
    "$\n",
    "\\begin{eqnarray}\n",
    "\\textrm{C}_D = \\frac{F_D}{1/2 \\rho v^2 A} \\rightarrow \\frac{\\textrm{Drag force}}{\\textrm{Dynamic force}}\n",
    "\\end{eqnarray}\n",
    "$"
   ]
  },
  {
   "cell_type": "markdown",
   "id": "56891ee6",
   "metadata": {},
   "source": [
    "### 17. Eckert number"
   ]
  },
  {
   "cell_type": "markdown",
   "id": "7ba3e68d",
   "metadata": {},
   "source": [
    "##### エッカート数：物体周辺における圧縮性流体の挙動の研究に用いられる、物体から十分離れた距離の点における流体速度の二乗を、流体の比熱と流体間の温度差の積で割った量"
   ]
  },
  {
   "cell_type": "markdown",
   "id": "08146bd0",
   "metadata": {},
   "source": [
    "$\n",
    "\\begin{eqnarray}\n",
    "\\textrm{Ec}=\\frac{v^2}{\\textrm{C}_p T} \\rightarrow \\frac{\\textrm{Kinetic energy}}{\\textrm{Enthalpy}}\n",
    "\\end{eqnarray}\n",
    "$"
   ]
  },
  {
   "cell_type": "markdown",
   "id": "3ccef6a1",
   "metadata": {},
   "source": [
    "### 18. Euler number"
   ]
  },
  {
   "cell_type": "markdown",
   "id": "8b5532db",
   "metadata": {},
   "source": [
    "### 19. Fanning friction number"
   ]
  },
  {
   "cell_type": "markdown",
   "id": "6739a455",
   "metadata": {},
   "source": [
    "### 20. Fourier number"
   ]
  },
  {
   "cell_type": "markdown",
   "id": "a32299bc",
   "metadata": {},
   "source": [
    "### 21. Froude number"
   ]
  },
  {
   "cell_type": "markdown",
   "id": "fb0164c3",
   "metadata": {},
   "source": [
    "##### フルード数：慣性力と重力の割合"
   ]
  },
  {
   "cell_type": "markdown",
   "id": "f450b51f",
   "metadata": {},
   "source": [
    "$\n",
    "\\begin{eqnarray}\n",
    "\\textrm{Fr} = \\frac{U}{\\sqrt{gL}}\n",
    "\\end{eqnarray}\n",
    "$"
   ]
  },
  {
   "cell_type": "markdown",
   "id": "2b86506c",
   "metadata": {},
   "source": [
    "$\n",
    "\\begin{eqnarray}\n",
    "U & : & 特性速度(m/s)\n",
    "\\\\\n",
    "g & : & 重力加速度(m/s^2)\n",
    "\\\\\n",
    "L & : & 特性長さ(m)\n",
    "\\end{eqnarray}\n",
    "$"
   ]
  },
  {
   "cell_type": "markdown",
   "id": "3736f4a1",
   "metadata": {},
   "source": [
    "### 22. Grashof number"
   ]
  },
  {
   "cell_type": "markdown",
   "id": "4b972c79",
   "metadata": {},
   "source": [
    "##### グラスホフ数：浮力と粘性力の割合"
   ]
  },
  {
   "cell_type": "markdown",
   "id": "101b8a7e",
   "metadata": {},
   "source": [
    "$\n",
    "\\begin{eqnarray}\n",
    "\\textrm{Gr} = \\frac{g \\beta \\Delta \\theta L^3}{\\nu^2}\n",
    "\\end{eqnarray}\n",
    "$"
   ]
  },
  {
   "cell_type": "markdown",
   "id": "0fc689af",
   "metadata": {},
   "source": [
    "$\n",
    "\\begin{eqnarray}\n",
    "g & : & 重力加速度(m/s^2)\n",
    "\\\\\n",
    "\\beta & : & 体積膨張率(1/K)\n",
    "\\\\\n",
    "\\Delta \\theta & : & 特性温度差(K)\n",
    "\\\\\n",
    "L & : & 特性長さ(m)\n",
    "\\\\\n",
    "\\nu & : & 動粘性係数(m^2/s)\n",
    "\\end{eqnarray}\n",
    "$"
   ]
  },
  {
   "cell_type": "markdown",
   "id": "4c8e2502",
   "metadata": {},
   "source": [
    "### 23. Jakob number"
   ]
  },
  {
   "cell_type": "markdown",
   "id": "ab57e8af",
   "metadata": {},
   "source": [
    "### 24. Knudsen number"
   ]
  },
  {
   "cell_type": "markdown",
   "id": "71885332",
   "metadata": {},
   "source": [
    "##### クヌーセン数：$\\textrm{Kn} << 1$であれば流れの場を連続体として扱える"
   ]
  },
  {
   "cell_type": "markdown",
   "id": "549000de",
   "metadata": {},
   "source": [
    "$\n",
    "\\begin{eqnarray}\n",
    "\\textrm{Kn} = \\frac{l}{L}\n",
    "\\end{eqnarray}\n",
    "$"
   ]
  },
  {
   "cell_type": "markdown",
   "id": "e9b8675d",
   "metadata": {},
   "source": [
    "$\n",
    "\\begin{eqnarray}\n",
    "l & : & 平均自由工程(m)\n",
    "\\\\\n",
    "L & : & 特性長さ(m)\n",
    "\\end{eqnarray}\n",
    "$"
   ]
  },
  {
   "cell_type": "markdown",
   "id": "85658eea",
   "metadata": {},
   "source": [
    "### 25. Lewis number"
   ]
  },
  {
   "cell_type": "markdown",
   "id": "9bc083ed",
   "metadata": {},
   "source": [
    "### 26. Lift coefficient"
   ]
  },
  {
   "cell_type": "markdown",
   "id": "6882f545",
   "metadata": {},
   "source": [
    "### 27. Mach number"
   ]
  },
  {
   "cell_type": "markdown",
   "id": "80bfa764",
   "metadata": {},
   "source": [
    "##### マッハ数：慣性力と気体の弾性力の割合、気体の圧縮性の影響度を示す"
   ]
  },
  {
   "cell_type": "markdown",
   "id": "40369c2d",
   "metadata": {},
   "source": [
    "$\n",
    "\\begin{eqnarray}\n",
    "\\textrm{Ma} = \\frac{U}{c}\n",
    "\\end{eqnarray}\n",
    "$"
   ]
  },
  {
   "cell_type": "markdown",
   "id": "aa3c96da",
   "metadata": {},
   "source": [
    "$\n",
    "\\begin{eqnarray}\n",
    "U & : & 特性速度(m/s)\n",
    "\\\\\n",
    "c & : & 音速(m/s)\n",
    "\\end{eqnarray}\n",
    "$"
   ]
  },
  {
   "cell_type": "markdown",
   "id": "35043928",
   "metadata": {},
   "source": [
    "### 28. Nusselt number"
   ]
  },
  {
   "cell_type": "markdown",
   "id": "c86460ed",
   "metadata": {},
   "source": [
    "##### ヌッセルト数：対流熱伝達と熱伝導の割合"
   ]
  },
  {
   "cell_type": "markdown",
   "id": "533451a9",
   "metadata": {},
   "source": [
    "$\n",
    "\\begin{eqnarray}\n",
    "\\textrm{Nu} = \\frac{kL}{\\lambda}\n",
    "\\end{eqnarray}\n",
    "$"
   ]
  },
  {
   "cell_type": "markdown",
   "id": "36e9dd2c",
   "metadata": {},
   "source": [
    "$\n",
    "\\begin{eqnarray}\n",
    "k & : & 熱伝達率(W/m^2K)\n",
    "\\\\\n",
    "L & : & 特性長さ(m)\n",
    "\\\\\n",
    "\\lambda & : & 熱伝導率(W/mK)\n",
    "\\end{eqnarray}\n",
    "$"
   ]
  },
  {
   "cell_type": "markdown",
   "id": "37949893",
   "metadata": {},
   "source": [
    "### 29. Peclet number"
   ]
  },
  {
   "cell_type": "markdown",
   "id": "799fc81b",
   "metadata": {},
   "source": [
    "### 30. Power number"
   ]
  },
  {
   "cell_type": "markdown",
   "id": "0a08a849",
   "metadata": {},
   "source": [
    "### 31. Prandtl number"
   ]
  },
  {
   "cell_type": "markdown",
   "id": "9d150913",
   "metadata": {},
   "source": [
    "##### プラントル数：分子拡散による運動量と温度の輸送効率の割合"
   ]
  },
  {
   "cell_type": "markdown",
   "id": "ee7da2bb",
   "metadata": {},
   "source": [
    "$\n",
    "\\begin{eqnarray}\n",
    "\\textrm{Pr} = \\frac{\\nu}{\\alpha}\n",
    "\\end{eqnarray}\n",
    "$"
   ]
  },
  {
   "cell_type": "markdown",
   "id": "06839cdf",
   "metadata": {},
   "source": [
    "$\n",
    "\\begin{eqnarray}\n",
    "\\nu & : & 動粘性係数(m^2/s)\n",
    "\\\\\n",
    "\\alpha & : & 温度拡散係数(m^2/s)\n",
    "\\end{eqnarray}\n",
    "$"
   ]
  },
  {
   "cell_type": "markdown",
   "id": "87d344d0",
   "metadata": {},
   "source": [
    "### 32. Pressure coeffcient"
   ]
  },
  {
   "cell_type": "markdown",
   "id": "35b6ef79",
   "metadata": {},
   "source": [
    "### 33. Rayleigh number"
   ]
  },
  {
   "cell_type": "markdown",
   "id": "e33e8621",
   "metadata": {},
   "source": [
    "##### レイリー数：対流と熱伝導による熱輸送の割合"
   ]
  },
  {
   "cell_type": "markdown",
   "id": "9fd850f1",
   "metadata": {},
   "source": [
    "$\n",
    "\\begin{eqnarray}\n",
    "\\textrm{Ra} = \\frac{g \\beta \\Delta \\theta L^3}{\\nu \\alpha} = \\textrm{Gr} \\cdot \\textrm{Pr}\n",
    "\\end{eqnarray}\n",
    "$"
   ]
  },
  {
   "cell_type": "markdown",
   "id": "c5365afb",
   "metadata": {},
   "source": [
    "$\n",
    "\\begin{eqnarray}\n",
    "g & : & 重力加速度(m/s^2)\n",
    "\\\\\n",
    "\\beta & : & 体積膨張率(1/K)\n",
    "\\\\\n",
    "\\Delta \\theta & : & 特性温度差(K)\n",
    "\\\\\n",
    "L & : & 特性長さ(m)\n",
    "\\\\\n",
    "\\nu & : & 動粘性係数(m^2/s)\n",
    "\\\\\n",
    "\\alpha & : & 温度拡散係数(m^2/s)\n",
    "\\end{eqnarray}\n",
    "$"
   ]
  },
  {
   "cell_type": "markdown",
   "id": "2a23a540",
   "metadata": {},
   "source": [
    "### 34. Reynolds number"
   ]
  },
  {
   "cell_type": "markdown",
   "id": "b0071cc2",
   "metadata": {},
   "source": [
    "##### レイノルズ数：慣性力と粘性力の割合、分子拡散による輸送と移流による輸送の時間スケールの比"
   ]
  },
  {
   "cell_type": "markdown",
   "id": "c7d6e9ca",
   "metadata": {},
   "source": [
    "$\n",
    "\\begin{eqnarray}\n",
    "\\textrm{Re} = \\frac{UL}{\\nu}\n",
    "\\end{eqnarray}\n",
    "$"
   ]
  },
  {
   "cell_type": "markdown",
   "id": "fc135976",
   "metadata": {},
   "source": [
    "$\n",
    "\\begin{eqnarray}\n",
    "U & : & 特性速度(m/s)\n",
    "\\\\\n",
    "L & : & 特性長さ(m)\n",
    "\\\\\n",
    "\\nu & : & 動粘性係数(m^2/s)\n",
    "\\end{eqnarray}\n",
    "$"
   ]
  },
  {
   "cell_type": "markdown",
   "id": "52f0501f",
   "metadata": {},
   "source": [
    "### 35. Richardson number"
   ]
  },
  {
   "cell_type": "markdown",
   "id": "3979a37f",
   "metadata": {},
   "source": [
    "### 27. Rosby number"
   ]
  },
  {
   "cell_type": "markdown",
   "id": "bf277f57",
   "metadata": {},
   "source": [
    "##### ロズビー数：慣性力とコリオリ力の割合、$\\textrm{Ro}$が小さいほど流れの非線形効果が小さく地衡流に近づく"
   ]
  },
  {
   "cell_type": "markdown",
   "id": "02a1fb92",
   "metadata": {},
   "source": [
    "$\n",
    "\\begin{eqnarray}\n",
    "\\textrm{Ro} = \\frac{U}{fL}\n",
    "\\end{eqnarray}\n",
    "$"
   ]
  },
  {
   "cell_type": "markdown",
   "id": "74f09842",
   "metadata": {},
   "source": [
    "$\n",
    "\\begin{eqnarray}\n",
    "U & : & 特性速度(m/s)\n",
    "\\\\\n",
    "f & : & コリオリパラメータ(1/2), f = 2 \\Omega \\sin \\psi, \\Omega：回転角速度, \\psi：緯度\n",
    "\\\\\n",
    "L & : & 水平方向の特性長さ\n",
    "\\end{eqnarray}\n",
    "$"
   ]
  },
  {
   "cell_type": "markdown",
   "id": "4f3cf049",
   "metadata": {},
   "source": [
    "### 27. Schmidt number"
   ]
  },
  {
   "cell_type": "markdown",
   "id": "cef6f473",
   "metadata": {},
   "source": [
    "##### シュミット数：分子拡散による運動量と、物質の輸送効率の割合"
   ]
  },
  {
   "cell_type": "markdown",
   "id": "ac7d438b",
   "metadata": {},
   "source": [
    "$\n",
    "\\begin{eqnarray}\n",
    "\\textrm{Sc} = \\frac{\\nu}{\\gamma}\n",
    "\\end{eqnarray}\n",
    "$"
   ]
  },
  {
   "cell_type": "markdown",
   "id": "d7f5dc09",
   "metadata": {},
   "source": [
    "$\n",
    "\\begin{eqnarray}\n",
    "\\nu & : & 動粘性係数(m^2/s)\n",
    "\\\\\n",
    "\\gamma & : & 物質拡散係数(m^2/s)\n",
    "\\end{eqnarray}\n",
    "$"
   ]
  },
  {
   "cell_type": "markdown",
   "id": "3698ef14",
   "metadata": {},
   "source": [
    "### 28. Sherwood number"
   ]
  },
  {
   "cell_type": "markdown",
   "id": "1e3b3ffc",
   "metadata": {},
   "source": [
    "##### シャーウッド数：物質移動の操作に現れる堺膜物質移動と拡散係数の割合"
   ]
  },
  {
   "cell_type": "markdown",
   "id": "53163cb5",
   "metadata": {},
   "source": [
    "$\n",
    "\\begin{eqnarray}\n",
    "\\textrm{Sh} = \\frac{k L}{D} = \\frac{L}{\\delta}\n",
    "\\end{eqnarray}\n",
    "$"
   ]
  },
  {
   "cell_type": "markdown",
   "id": "1560285c",
   "metadata": {},
   "source": [
    "$\n",
    "\\begin{eqnarray}\n",
    "k & : & 堺膜物質移動係数(m/s)\n",
    "\\\\\n",
    "L & : & 特性長さ(m)\n",
    "\\\\\n",
    "D & : & 拡散係数(m^2/s)\n",
    "\\\\\n",
    "\\delta & : & 堺膜の厚さ(m)\n",
    "\\end{eqnarray}\n",
    "$"
   ]
  },
  {
   "cell_type": "markdown",
   "id": "45a6471e",
   "metadata": {},
   "source": [
    "### 29. Specific Heat ratio"
   ]
  },
  {
   "cell_type": "markdown",
   "id": "afb500f3",
   "metadata": {},
   "source": [
    "### 30. Stanton number"
   ]
  },
  {
   "cell_type": "markdown",
   "id": "acc1c1a0",
   "metadata": {},
   "source": [
    "### 31. Stokes number"
   ]
  },
  {
   "cell_type": "markdown",
   "id": "1acc4133",
   "metadata": {},
   "source": [
    "### 32. Strouhal number"
   ]
  },
  {
   "cell_type": "markdown",
   "id": "96ed2c47",
   "metadata": {},
   "source": [
    "##### ストローハル数：流体中における振動現象の無次元数、カルマン渦のストローハル数は$0.2$程度$(\\textrm{Re}=10^3-10^5)$"
   ]
  },
  {
   "cell_type": "markdown",
   "id": "eb80ea0b",
   "metadata": {},
   "source": [
    "$\n",
    "\\begin{eqnarray}\n",
    "\\textrm{St} = \\frac{fL}{U} \\rightarrow \\frac{\\textrm{Characteristic flow time}}{\\textrm{Period of oscillation}}\n",
    "\\end{eqnarray}\n",
    "$"
   ]
  },
  {
   "cell_type": "markdown",
   "id": "ef55d49a",
   "metadata": {},
   "source": [
    "$\n",
    "\\begin{eqnarray}\n",
    "f & : & 振動現象の周波数(1/s)\n",
    "\\\\\n",
    "L & : & 特性長さ(m)\n",
    "\\\\\n",
    "U & : & 特性速度(m/s)\n",
    "\\end{eqnarray}\n",
    "$"
   ]
  },
  {
   "cell_type": "markdown",
   "id": "ab399cdb",
   "metadata": {},
   "source": [
    "### 33. Weber number"
   ]
  },
  {
   "cell_type": "markdown",
   "id": "97fa676c",
   "metadata": {},
   "source": [
    "##### ウェーバー数：流体力学において慣性力と表面張力の割合を表す無次元量"
   ]
  },
  {
   "cell_type": "markdown",
   "id": "c55fbdd4",
   "metadata": {},
   "source": [
    "$\n",
    "\\begin{eqnarray}\n",
    "\\textrm{We} = \\frac{\\rho v^2 L}{\\sigma_s} \\rightarrow \\frac{\\textrm{Inertial force}}{\\textrm{Surface tension force}}\n",
    "\\end{eqnarray}\n",
    "$"
   ]
  },
  {
   "cell_type": "markdown",
   "id": "dfb9d4e1",
   "metadata": {},
   "source": [
    "### 34. Weissenberg number"
   ]
  },
  {
   "cell_type": "markdown",
   "id": "6c150cc0",
   "metadata": {},
   "source": [
    "##### ワイセンバルク数：粘弾性流（せん断速度と緩和時間の積）"
   ]
  },
  {
   "cell_type": "markdown",
   "id": "08ac2e73",
   "metadata": {},
   "source": [
    "$\n",
    "\\begin{eqnarray}\n",
    "\\textrm{Wi} = \\dot{\\gamma}{\\lambda}\n",
    "\\end{eqnarray}\n",
    "$"
   ]
  },
  {
   "cell_type": "markdown",
   "id": "884bb69c",
   "metadata": {},
   "source": [
    "### 35. Womersley number"
   ]
  },
  {
   "cell_type": "markdown",
   "id": "3f538220",
   "metadata": {},
   "source": [
    "### 36. Zel'dovich number"
   ]
  },
  {
   "cell_type": "markdown",
   "id": "977e9b81",
   "metadata": {},
   "source": [
    "##### ゼルドヴィチ数：活性化エネルギー（燃焼）の測定"
   ]
  },
  {
   "cell_type": "markdown",
   "id": "fa98b0f9",
   "metadata": {},
   "source": [
    "$\n",
    "\\begin{eqnarray}\n",
    "\\beta = \\frac{E}{RT_f} \\frac{T_f - T_0}{T_f}\n",
    "\\end{eqnarray}\n",
    "$"
   ]
  },
  {
   "cell_type": "markdown",
   "id": "4aaae1ee",
   "metadata": {},
   "source": [
    "### 出典："
   ]
  },
  {
   "cell_type": "markdown",
   "id": "53df94f7",
   "metadata": {},
   "source": [
    "##### 流体力学の無次元数一覧 (Wikipedia)"
   ]
  },
  {
   "cell_type": "markdown",
   "id": "f183ed9a",
   "metadata": {},
   "source": [
    "https://ja.wikipedia.org/wiki/%E6%B5%81%E4%BD%93%E5%8A%9B%E5%AD%A6%E3%81%AE%E7%84%A1%E6%AC%A1%E5%85%83%E6%95%B0%E4%B8%80%E8%A6%A7"
   ]
  },
  {
   "cell_type": "markdown",
   "id": "f3ab643f",
   "metadata": {},
   "source": [
    "http://lee-lab.net/blog-contents-007/"
   ]
  },
  {
   "cell_type": "markdown",
   "id": "7b0f3311",
   "metadata": {},
   "source": [
    "http://www.iis.u-tokyo.ac.jp/~kkmt/docs/note_DimensionlessNumber/note.html"
   ]
  },
  {
   "cell_type": "code",
   "execution_count": null,
   "id": "6773c692",
   "metadata": {},
   "outputs": [],
   "source": []
  }
 ],
 "metadata": {
  "kernelspec": {
   "display_name": "Python 3 (ipykernel)",
   "language": "python",
   "name": "python3"
  },
  "language_info": {
   "codemirror_mode": {
    "name": "ipython",
    "version": 3
   },
   "file_extension": ".py",
   "mimetype": "text/x-python",
   "name": "python",
   "nbconvert_exporter": "python",
   "pygments_lexer": "ipython3",
   "version": "3.10.5"
  }
 },
 "nbformat": 4,
 "nbformat_minor": 5
}
