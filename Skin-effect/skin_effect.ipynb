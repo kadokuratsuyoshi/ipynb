{
 "cells": [
  {
   "cell_type": "markdown",
   "id": "c6da4f25",
   "metadata": {},
   "source": [
    "# Skin-effect"
   ]
  },
  {
   "cell_type": "markdown",
   "id": "15728465",
   "metadata": {},
   "source": [
    "#### From the Ampere's circuital law"
   ]
  },
  {
   "cell_type": "markdown",
   "id": "86fc472c",
   "metadata": {},
   "source": [
    "$\n",
    "\\large\n",
    "\\nabla \\times H = \\frac{\\partial D}{\\partial t} + \\sigma E, % \\label{a}\\tag{1}\n",
    "$"
   ]
  },
  {
   "cell_type": "markdown",
   "id": "8272df5e",
   "metadata": {},
   "source": [
    "#### and the Faraday's law of induction"
   ]
  },
  {
   "cell_type": "markdown",
   "id": "bc1fa1c8",
   "metadata": {},
   "source": [
    "$\n",
    "\\large\n",
    "\\nabla \\times E = -\\mu_0 \\frac{\\partial H}{\\partial t} = -\\frac{\\partial B}{\\partial t}, \\ \\ \\because B = \\mu_0 H.\n",
    "$"
   ]
  },
  {
   "cell_type": "markdown",
   "id": "f0add577",
   "metadata": {},
   "source": [
    "### The electric-flux is absent in conductive matter,"
   ]
  },
  {
   "cell_type": "markdown",
   "id": "965625af",
   "metadata": {},
   "source": [
    "$\n",
    "\\large\n",
    "D=\\epsilon E, \\epsilon=0 \\Rightarrow D=0,\n",
    "$"
   ]
  },
  {
   "cell_type": "markdown",
   "id": "a02d4757",
   "metadata": {},
   "source": [
    "$\n",
    "\\large\n",
    "\\nabla \\times H = \\sigma E,\n",
    "$"
   ]
  },
  {
   "cell_type": "markdown",
   "id": "7c024197",
   "metadata": {},
   "source": [
    "$\n",
    "\\large\n",
    "\\nabla \\times (\\nabla \\times E) = -\\mu_o \\frac{\\partial}{\\partial t}\n",
    "\\left( \\nabla \\times H \\right),\n",
    "$"
   ]
  },
  {
   "cell_type": "markdown",
   "id": "9db41f39",
   "metadata": {},
   "source": [
    "$\n",
    "\\large\n",
    "\\nabla \\times (\\nabla \\times E) = -\\mu_0 \\sigma \\frac{\\partial}{\\partial t}E,\n",
    "$"
   ]
  },
  {
   "cell_type": "markdown",
   "id": "a2c3db77",
   "metadata": {},
   "source": [
    "#### by using vector operators that,"
   ]
  },
  {
   "cell_type": "markdown",
   "id": "ca6b46df",
   "metadata": {},
   "source": [
    "$\n",
    "\\because \\left \\{\n",
    "\\begin{array}{l}\n",
    "\\nabla \\times (\\nabla \\times A) = \\nabla(\\nabla \\cdot A) - \\nabla^2 A = 0,\n",
    "\\\\\n",
    "\\nabla(\\nabla \\cdot A) = 0,\n",
    "\\\\\n",
    "\\nabla \\times (\\nabla \\times A) = - \\nabla^2 A,\n",
    "\\end{array}\n",
    "\\right.\n",
    "$"
   ]
  },
  {
   "cell_type": "markdown",
   "id": "de6ce1bb",
   "metadata": {},
   "source": [
    "### $\\nabla \\times(\\nabla \\times E)$ can be rewritten $-\\nabla^2 E$, under $\\mathrm{div} E=0, (\\nabla \\cdot E=0)$. We obtain a diffusion equation of decay system,"
   ]
  },
  {
   "cell_type": "markdown",
   "id": "44e1f200",
   "metadata": {},
   "source": [
    "$\n",
    "\\large\n",
    "\\therefore \\nabla^2 E - \\mu_0 \\sigma \\frac{\\partial E}{\\partial t} = 0.\n",
    "$"
   ]
  },
  {
   "cell_type": "markdown",
   "id": "7fe7d16b",
   "metadata": {},
   "source": [
    "### We assume the wavefunction $E$ as,"
   ]
  },
  {
   "cell_type": "markdown",
   "id": "1fe6b808",
   "metadata": {},
   "source": [
    "$\n",
    "\\large\n",
    "E = E_0 e^{-i \\omega t} e^{i k z} = E_0 e^{-i(\\omega t - k z)},\n",
    "$"
   ]
  },
  {
   "cell_type": "markdown",
   "id": "3a018652",
   "metadata": {},
   "source": [
    "$\n",
    "\\large\n",
    "\\nabla^2 E - \\mu_0 \\sigma \\frac{\\partial E}{\\partial t} = 0,\n",
    "$"
   ]
  },
  {
   "cell_type": "markdown",
   "id": "63b834c9",
   "metadata": {},
   "source": [
    "$\n",
    "\\large\n",
    "-k^2 E + i \\omega \\mu_0 \\sigma E = 0.\n",
    "$"
   ]
  },
  {
   "cell_type": "markdown",
   "id": "a7d7f3e0",
   "metadata": {},
   "source": [
    "#### The eigen value of k is shown as"
   ]
  },
  {
   "cell_type": "markdown",
   "id": "95af6b66",
   "metadata": {},
   "source": [
    "$\n",
    "\\large\n",
    "k = (i \\omega \\mu_0 \\sigma)^{\\frac{1}{2}},\n",
    "$"
   ]
  },
  {
   "cell_type": "markdown",
   "id": "24889c90",
   "metadata": {},
   "source": [
    "$\n",
    "\\because \\left \\{\n",
    "\\begin{array}{l}\n",
    "2i&=&(1+i)^2,\n",
    "\\\\\n",
    "i&=&\\frac{(1+i)^2}{2},\n",
    "\\\\\n",
    "i^{\\frac{1}{2}}&=&\\frac{1+i}{2^{\\frac{1}{2}}},\n",
    "%\n",
    "%2i&=&(1+i)(1-i),\n",
    "%\\\\\n",
    "%\\\\\n",
    "%|i^{1/2}|^2&=&\\left( \\frac{1+i}{2^{1/2}} \\right)\n",
    "%\\left( \\frac{1-i}{2^{1/2}}\\right),\n",
    "%\\\\\n",
    "%&=&\\frac{1}{2}(1+i)(1-i),\n",
    "%\\\\\n",
    "%&=&\\frac{1}{2}(1+1) = 1\n",
    "\\end{array},\n",
    "\\right .\n",
    "$"
   ]
  },
  {
   "cell_type": "markdown",
   "id": "f50371ed",
   "metadata": {},
   "source": [
    "#### apply the notation of $i^{1/2} = (1+i)/2^{1/2}$,"
   ]
  },
  {
   "cell_type": "markdown",
   "id": "b7b8f6bf",
   "metadata": {},
   "source": [
    "$\n",
    "\\large\\therefore k = ( \\frac{\\omega \\mu_0 \\sigma}{2} )^{\\frac{1}{2}}+i\\left( \\frac{\\omega \\mu_0 \\sigma}{2} \\right)^{\\frac{1}{2}},\n",
    "$"
   ]
  },
  {
   "cell_type": "markdown",
   "id": "0a82ced2",
   "metadata": {},
   "source": [
    "$\n",
    "\\large\n",
    "\\left .\n",
    "\\begin{array}{l}\n",
    "E & = & E_0 e^{-i(\\omega t - k z)},\n",
    "\\\\\n",
    "& = & E_0 e^{-i\\omega t}\n",
    "e^{i(\\omega \\mu_0 \\sigma)^{1/2}z}\n",
    "e^{-(\\omega \\mu_0 \\sigma)^{1/2}z},\n",
    "\\end{array}\n",
    "\\right .\n",
    "$"
   ]
  },
  {
   "cell_type": "markdown",
   "id": "85001abb",
   "metadata": {},
   "source": [
    "#### the electric field wave function $E$ should decay with the dumping factor of $e^{-(\\omega \\mu_0 \\sigma)^{1/2}z}$ above."
   ]
  },
  {
   "cell_type": "markdown",
   "id": "ae3dd351",
   "metadata": {},
   "source": [
    "#### The condition at $1/e$ factor expresses as the thickness of the Skin-effect,"
   ]
  },
  {
   "cell_type": "markdown",
   "id": "66ac5506",
   "metadata": {},
   "source": [
    "$\n",
    "\\large \n",
    "\\sigma = \\left( \\frac{2}{\\omega \\mu_0} \\right)^{\\frac{1}{2}}.\n",
    "$"
   ]
  },
  {
   "cell_type": "markdown",
   "id": "0141ec5a",
   "metadata": {},
   "source": [
    "#### $\\omega$ : Frequency of current $2 \\pi f$ ($f$ [Hz])"
   ]
  },
  {
   "cell_type": "markdown",
   "id": "62c1c1ca",
   "metadata": {},
   "source": [
    "#### $\\mu_0$ : Permeability of free space ($4 \\pi \\times 10^{-7}$[H/m])"
   ]
  },
  {
   "cell_type": "markdown",
   "id": "9ef820b9",
   "metadata": {},
   "source": [
    "#### Example of Skin-effect thickness of Copper."
   ]
  },
  {
   "cell_type": "code",
   "execution_count": 1,
   "id": "a4ffe28b",
   "metadata": {},
   "outputs": [
    {
     "data": {
      "image/png": "[encoded data removed]",
      "text/plain": [
       "<IPython.core.display.Image object>"
      ]
     },
     "execution_count": 1,
     "metadata": {},
     "output_type": "execute_result"
    }
   ],
   "source": [
    "from IPython.display import Image\n",
    "Image(\"./skin_effect.png\")"
   ]
  },
  {
   "cell_type": "code",
   "execution_count": null,
   "id": "2ba3047d",
   "metadata": {},
   "outputs": [],
   "source": []
  }
 ],
 "metadata": {
  "kernelspec": {
   "display_name": "Python 3 (ipykernel)",
   "language": "python",
   "name": "python3"
  },
  "language_info": {
   "codemirror_mode": {
    "name": "ipython",
    "version": 3
   },
   "file_extension": ".py",
   "mimetype": "text/x-python",
   "name": "python",
   "nbconvert_exporter": "python",
   "pygments_lexer": "ipython3",
   "version": "3.10.5"
  }
 },
 "nbformat": 4,
 "nbformat_minor": 5
}
