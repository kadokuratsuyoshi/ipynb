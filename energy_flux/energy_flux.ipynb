{
 "cells": [
  {
   "cell_type": "markdown",
   "metadata": {},
   "source": [
    "## 連続の式"
   ]
  },
  {
   "cell_type": "markdown",
   "metadata": {},
   "source": [
    "$$\n",
    "i \\hbar \\frac{\\partial \\psi(r, t)}{\\partial t} = - \\frac{\\hbar^2}{2m} \\nabla^2 \\psi(r, t) + V_{\\textrm{ext}} \\psi(r,t) + g |\\psi(r,t)|^2 \\psi(r,t)\n",
    "$$"
   ]
  },
  {
   "cell_type": "markdown",
   "metadata": {},
   "source": [
    "トラップポテンシャル"
   ]
  },
  {
   "cell_type": "markdown",
   "metadata": {},
   "source": [
    "$\\begin{eqnarray}\n",
    "V_{\\textrm{ext}} = \\frac{m \\omega^2 r^2}{2}\n",
    "\\end{eqnarray}$"
   ]
  },
  {
   "cell_type": "markdown",
   "metadata": {},
   "source": [
    "相互作用エネルギー"
   ]
  },
  {
   "cell_type": "markdown",
   "metadata": {},
   "source": [
    "$\\begin{eqnarray}\n",
    "    U_{\\textrm{interaction}} = g \\delta(r_1 - r_2)\n",
    "\\end{eqnarray}$"
   ]
  },
  {
   "cell_type": "markdown",
   "metadata": {},
   "source": [
    "複素共役(adjoint)"
   ]
  },
  {
   "cell_type": "markdown",
   "metadata": {},
   "source": [
    "$\\begin{eqnarray}\n",
    "i\\hbar \\frac{\\partial \\psi}{\\partial t} = - \\frac{\\hbar^2}{2m} \\nabla^2 \\psi + V_{\\textrm{ext}} \\psi + g|\\psi^2|\\psi \\ \\ \\textrm{(a)}\n",
    "\\\\\n",
    "-i\\hbar \\frac{\\partial \\psi^\\dagger}{\\partial t} = - \\frac{\\hbar^2}{2m} \\nabla^2 \\psi^\\dagger + V_{\\textrm{ext}} \\psi^\\dagger + g|\\psi^2|\\psi^\\dagger \\ \\ \\textrm{(b)}\n",
    "\\end{eqnarray}$"
   ]
  },
  {
   "cell_type": "markdown",
   "metadata": {},
   "source": [
    "(a) $\\times \\psi^\\dagger-$ (b) $\\times \\psi$"
   ]
  },
  {
   "cell_type": "markdown",
   "metadata": {},
   "source": [
    "$\\begin{eqnarray}\n",
    "\\textrm{L.H.S} = i \\hbar \\frac{\\partial \\psi}{\\partial t} \\psi^\\dagger + i\\hbar \\frac{\\partial \\psi^\\dagger}{\\partial t} \\psi\n",
    "= i \\hbar \\frac{\\partial \\psi \\psi^\\dagger}{\\partial t} = i\\hbar \\frac{\\partial |\\psi|^2}{\\partial t}\n",
    "\\end{eqnarray}$"
   ]
  },
  {
   "cell_type": "markdown",
   "metadata": {},
   "source": [
    "## エネルギー流束"
   ]
  },
  {
   "cell_type": "markdown",
   "metadata": {},
   "source": [
    "Gross-Pitaevskii方程式"
   ]
  },
  {
   "cell_type": "markdown",
   "metadata": {},
   "source": [
    "$\\begin{eqnarray}\\left[i - \\gamma(\\boldsymbol{x},t)\\right]\\frac{\\partial}{\\partial t} \\Phi(\\boldsymbol{x},t) =\\left[- \\nabla^2 - \\mu(t) + g|\\Phi(\\boldsymbol{x},t)^2|\\right] \\Phi(\\boldsymbol{x},t)\\end{eqnarray}$   (1)"
   ]
  },
  {
   "cell_type": "markdown",
   "metadata": {},
   "source": [
    "式(1)にマーデルング変換$\\Phi(\\boldsymbol{x},t)=f(\\boldsymbol{x},t)\\exp[i \\phi(\\boldsymbol{x},t)]$を施す、"
   ]
  },
  {
   "cell_type": "markdown",
   "metadata": {},
   "source": [
    "$\\begin{eqnarray}\n",
    "\\frac{\\partial}{\\partial t} \\Phi(\\boldsymbol{x},t) =\n",
    "\\frac{\\partial}{\\partial t} \\left[ f(\\boldsymbol{x},t) \\exp[i\\phi(\\boldsymbol{x},t)] \\right]=\n",
    "\\frac{\\partial}{\\partial t}f(\\boldsymbol{x},t)  \\exp[i\\phi(\\boldsymbol{x},t)]\n",
    "+ i f(\\boldsymbol{x},t)  \\frac{\\partial}{\\partial t}\\phi(\\boldsymbol{x},t)\\exp[i\\phi(\\boldsymbol{x},t)]\n",
    "\\end{eqnarray}$"
   ]
  },
  {
   "cell_type": "markdown",
   "metadata": {},
   "source": [
    "$\\begin{eqnarray}\n",
    "i \\frac{\\partial}{\\partial t} \\Phi(\\boldsymbol{x},t) & = &\n",
    "i \\frac{\\partial}{\\partial t}f(\\boldsymbol{x},t) \\exp[i \\phi(\\boldsymbol{x},t) ]\n",
    "- f(\\boldsymbol{x},t) \\frac{\\partial}{\\partial t} \\phi(\\boldsymbol{x},t) \\exp[ i \\phi(\\boldsymbol{x},t) ]\n",
    "\\\\\n",
    "& = & 0 - f(\\boldsymbol{x},t) \\frac{\\partial}{\\partial t} \\phi(\\boldsymbol{x},t) \\exp[ i \\phi(\\boldsymbol{x},t) ]\n",
    "\\end{eqnarray}$"
   ]
  },
  {
   "cell_type": "markdown",
   "metadata": {},
   "source": [
    "$\\begin{eqnarray}\n",
    "\\nabla \\Phi(\\boldsymbol{x},t) = \\nabla \\left[ f(\\boldsymbol{x},t) \\exp[i \\phi(\\boldsymbol{x},t) ] \\right] =\n",
    "\\nabla f(\\boldsymbol{x},t) \\exp[i \\phi(\\boldsymbol{x},t) ] + i f(\\boldsymbol{x},t) \\nabla \\phi( \\boldsymbol{x},t) \\exp[i \\phi(\\boldsymbol{x},t) ]\n",
    "\\end{eqnarray}$"
   ]
  },
  {
   "cell_type": "markdown",
   "metadata": {},
   "source": [
    "$\\begin{eqnarray}\n",
    "\\nabla^2 \\Phi(\\boldsymbol{x},t) & = & \\nabla \\left\\{ \\nabla \\Phi(\\boldsymbol{x},t) \\right\\} =\n",
    "\\nabla^2 f(\\boldsymbol{x},t) \\exp[i \\phi(\\boldsymbol{x},t) ]\n",
    "+ i \\nabla f(\\boldsymbol{x},t) \\nabla \\phi(\\boldsymbol{x},t) \\exp[i \\phi(\\boldsymbol{x},t)]\n",
    "+ i \\nabla f(\\boldsymbol{x},t) \\nabla \\phi(\\boldsymbol{x},t) \\exp[i \\phi(\\boldsymbol{x},t)]\n",
    "+ i f(\\boldsymbol{x},t) \\nabla^2 \\phi(\\boldsymbol{x},t) \\exp[i \\phi(\\boldsymbol{x},t)]\n",
    "+ i f(\\boldsymbol{x},t)  \\nabla \\phi(\\boldsymbol{x},t) i \\nabla \\phi(\\boldsymbol{x},t) \\exp[i \\phi(\\boldsymbol{x},t)]\n",
    "\\\\\n",
    "& = & \\nabla^2 f(\\boldsymbol{x},t) \\exp[i \\phi(\\boldsymbol{x},t) ]\n",
    "+ 2i \\nabla f(\\boldsymbol{x},t) \\nabla \\phi(\\boldsymbol{x},t) \\exp[i \\phi(\\boldsymbol{x},t)]\n",
    "+ if(\\boldsymbol{x},t) \\nabla^2 \\phi(\\boldsymbol{x},t) \\exp[i \\phi(\\boldsymbol{x},t) ]\n",
    "- f(\\boldsymbol{x},t) \\left[ \\nabla \\phi(\\boldsymbol{x},t) \\right]^2 \\exp[i \\phi(\\boldsymbol{x},t) ]\n",
    "\\\\\n",
    "& = & i \\left[2 \\nabla f(\\boldsymbol{x},t) \\cdot \\nabla \\phi(\\boldsymbol{x},t)\n",
    "+f(\\boldsymbol{x},t) \\nabla^2 \\phi(\\boldsymbol{x},t)\n",
    "\\right] \\exp[i \\phi(\\boldsymbol{x},t)]\n",
    "+ \\left[\n",
    "\\nabla^2 f(\\boldsymbol{x},t)\n",
    " - f(\\boldsymbol{x},t) \\left[ \\nabla \\phi(\\boldsymbol{x},t) \\right]^2\n",
    "\\right] \\exp[i \\phi(\\boldsymbol{x},t)]\n",
    "\\end{eqnarray}$"
   ]
  },
  {
   "cell_type": "markdown",
   "metadata": {},
   "source": [
    "$\\begin{eqnarray}f(\\boldsymbol{x},t)\\frac{\\partial}{\\partial t}\\phi(\\boldsymbol{x},t)\n",
    "=\\gamma (\\boldsymbol{x},t)\\left[\n",
    "2 \\nabla f(\\boldsymbol{x},t) \\cdot \n",
    "\\nabla \\phi (\\boldsymbol{x},t) + f(\\boldsymbol{x},t) \\nabla^2 \\phi(\\boldsymbol{x},t)\n",
    "\\right]\n",
    "+ \\nabla^2 f(\\boldsymbol{x},t) - f(\\boldsymbol{x},t) \\left[\\nabla \\phi (\\boldsymbol{x},t) \\right]^2\n",
    "- \\left[ g f (\\boldsymbol{x},t)^2 - \\mu(t)\\right] f(\\boldsymbol{x},t)\\end{eqnarray}$"
   ]
  },
  {
   "cell_type": "markdown",
   "metadata": {},
   "source": [
    "ランダムポテンシャル$V(\\boldsymbol{x},t)$を含むeq.(15)について"
   ]
  },
  {
   "cell_type": "markdown",
   "metadata": {},
   "source": [
    "$\n",
    "\\begin{eqnarray}\n",
    "f(\\boldsymbol{x},t)\\frac{\\partial}{\\partial t}\\phi(\\boldsymbol{x},t)\n",
    "=\\gamma (\\boldsymbol{x},t)\\left[\n",
    "2 \\nabla f(\\boldsymbol{x},t) \\cdot \n",
    "\\nabla \\phi (\\boldsymbol{x},t) + f(\\boldsymbol{x},t) \\nabla^2 \\phi(\\boldsymbol{x},t)\n",
    "\\right]\n",
    "+ \\nabla^2 f(\\boldsymbol{x},t) - f(\\boldsymbol{x},t) \\left[\\nabla \\phi (\\boldsymbol{x},t) \\right]^2\n",
    "- \\left[ g f (\\boldsymbol{x},t)^2 - \\mu(t) + V(\\boldsymbol{x},t) \\right] f(\\boldsymbol{x},t)\n",
    "\\end{eqnarray}\n",
    "$、\n",
    "$\n",
    "\\begin{eqnarray}\n",
    "f(\\boldsymbol{x},t)\\frac{\\partial}{\\partial t}\\phi(\\boldsymbol{x},t)\n",
    "=\\gamma (\\boldsymbol{x},t)\\left[\n",
    " f(\\boldsymbol{x},t) \\nabla^2 \\phi(\\boldsymbol{x},t)\n",
    "\\right]\n",
    "- \\left[ g f (\\boldsymbol{x},t)^2 - \\mu(t) + V(\\boldsymbol{x},t) \\right] f(\\boldsymbol{x},t)\n",
    "\\end{eqnarray}\n",
    "$"
   ]
  },
  {
   "cell_type": "markdown",
   "metadata": {},
   "source": [
    "新たに$\\boldsymbol{p}(\\boldsymbol{x},t)=f(\\boldsymbol{x},t)\\nabla \\phi(\\boldsymbol{x},t)$を定義し、"
   ]
  },
  {
   "cell_type": "markdown",
   "metadata": {},
   "source": [
    "$\n",
    "\\begin{eqnarray}\n",
    "\\frac{1}{\\nabla} \\boldsymbol{p}(\\boldsymbol{x},t) = f(\\boldsymbol{x},t) \\phi(\\boldsymbol{x},t)\n",
    "\\end{eqnarray}\n",
    "\\\\\n",
    "$、\n",
    "\n",
    "$\n",
    "\\begin{eqnarray}\n",
    "\\frac{\\partial}{\\partial t}\\boldsymbol{p}(\\boldsymbol{x},t)\n",
    "+ \\boldsymbol{p}(\\boldsymbol{x},t)\\cdot \\nabla \\boldsymbol{v}(\\boldsymbol{x},t)\n",
    "= \\gamma (\\boldsymbol{x},t) \\ \\nabla \\left[\n",
    "\\nabla \\cdot \n",
    "\\boldsymbol{p}(\\boldsymbol{x},t)\n",
    "\\right]\n",
    "+ \n",
    "\\boldsymbol{F}(\\boldsymbol{x},t)\n",
    "\\end{eqnarray}\n",
    "$"
   ]
  },
  {
   "cell_type": "markdown",
   "metadata": {},
   "source": [
    "$\\nabla f(\\boldsymbol{x},t)$と、$\\partial f(\\boldsymbol{x},t)/\\partial t$の項は影響ないほど小さな値のため無視とする。"
   ]
  },
  {
   "cell_type": "markdown",
   "metadata": {},
   "source": [
    "ここで、$\\boldsymbol{F}(\\boldsymbol{x},t)=\n",
    "-\\nabla\\left[\n",
    "gf(\\boldsymbol{x},t)^2 - \\mu(t) + V(\\boldsymbol{x},t)\n",
    "\\right] \\ f(\\boldsymbol{x},t)$\n",
    "である。"
   ]
  },
  {
   "cell_type": "markdown",
   "metadata": {},
   "source": [
    "任意の関数$A(\\boldsymbol{x})$に対して、ローパスフィルター、ハイパスフィルターを施す関数を"
   ]
  },
  {
   "cell_type": "markdown",
   "metadata": {},
   "source": [
    "$\n",
    "\\begin{eqnarray}\n",
    "A^{<}_{\\boldsymbol{k}}(\\boldsymbol{x}) = \\sum_{q \\leq \\boldsymbol{k}} \\tilde{A}(\\boldsymbol{q}) \\exp[i \\boldsymbol{q}\\cdot \\boldsymbol{x}]\n",
    "\\end{eqnarray}\n",
    "$、\n",
    "$\n",
    "\\begin{eqnarray}\n",
    "A^{>}_{\\boldsymbol{k}}(\\boldsymbol{x}) = \\sum_{q > \\boldsymbol{k}} \\tilde{A}(\\boldsymbol{q}) \\exp[i \\boldsymbol{q}\\cdot \\boldsymbol{x}]\n",
    "\\end{eqnarray}\n",
    "$"
   ]
  },
  {
   "cell_type": "markdown",
   "metadata": {},
   "source": [
    "と定義し、ローパスフィルターの演算子$L_{\\boldsymbol{k}}\\ : \\ A(\\boldsymbol{x})\\rightarrow A^{<}_{\\boldsymbol{k}}(\\boldsymbol{x})$と、\n",
    "$\\boldsymbol{p}^{<}_{\\boldsymbol{k}}$の内積を上式に施すと、"
   ]
  },
  {
   "cell_type": "markdown",
   "metadata": {},
   "source": [
    "$\n",
    "\\begin{eqnarray}\n",
    "\\frac{1}{2}\\frac{\\partial}{\\partial t}\n",
    "\\left[\n",
    "\\boldsymbol{p}^{<}_{\\boldsymbol{k}}(\\boldsymbol{x},t)\n",
    "\\right]^2\n",
    "+\\boldsymbol{p}^{<}_{\\boldsymbol{k}}(\\boldsymbol{x},t)\n",
    "\\cdot\n",
    "L_{\\boldsymbol{k}}\n",
    "\\left[\n",
    "\\boldsymbol{p}(\\boldsymbol{x},t)\n",
    "\\cdot\n",
    "\\nabla \\boldsymbol{v}(\\boldsymbol{x},t)\n",
    "\\right]\n",
    "=\\gamma(\\boldsymbol{x},t)\\boldsymbol{p}^{<}_{\\boldsymbol{k}}(\\boldsymbol{x},t)\n",
    "\\cdot \\nabla \\left[\n",
    "\\nabla \\cdot\n",
    "\\boldsymbol{p}^{<}_{\\boldsymbol{k}}(\\boldsymbol{x},t)\n",
    "\\right]\n",
    "+\n",
    "\\boldsymbol{p}^{<}_{\\boldsymbol{k}}(\\boldsymbol{x},t)\n",
    "\\cdot \n",
    "\\boldsymbol{F}^{<}_{\\boldsymbol{k}}(\\boldsymbol{x},t)\n",
    "\\end{eqnarray}\n",
    "$"
   ]
  },
  {
   "cell_type": "markdown",
   "metadata": {},
   "source": [
    "で表される。"
   ]
  },
  {
   "cell_type": "markdown",
   "metadata": {},
   "source": [
    "$\n",
    "\\begin{eqnarray}\n",
    "\\frac{\\partial}{\\partial t} \\mathscr{E}(\\boldsymbol{k},t )\n",
    "+ \\Pi(\\boldsymbol{k},t) =\n",
    "-\\Omega(\\boldsymbol{k},t) + \\mathscr{F}(\\boldsymbol{k},t)\n",
    "\\end{eqnarray}\n",
    "$"
   ]
  },
  {
   "cell_type": "markdown",
   "metadata": {},
   "source": [
    "$\\mathscr{E}$は波数$0$から$k$までのkinetic energy"
   ]
  },
  {
   "cell_type": "markdown",
   "metadata": {},
   "source": [
    "$\n",
    "\\begin{eqnarray}\n",
    "\\mathscr{E}(\\boldsymbol{k},t) =\n",
    "\\frac{2}{N}\n",
    "\\frac{1}{2}\\int d\\boldsymbol{x}\n",
    "\\left[\n",
    "\\left\\{\n",
    "\\boldsymbol{p}^{<}_{\\boldsymbol{k}}(\\boldsymbol{x},t)\n",
    "\\right\\}^i\n",
    "\\right]^2\n",
    "\\end{eqnarray}\n",
    "$"
   ]
  },
  {
   "cell_type": "markdown",
   "metadata": {},
   "source": [
    "で示され、エネルギー散逸の累計$\\Omega$は、"
   ]
  },
  {
   "cell_type": "markdown",
   "metadata": {},
   "source": [
    "$\n",
    "\\begin{eqnarray}\n",
    "\\Omega(\\boldsymbol{k},t) =\n",
    "-\\frac{2}{N}\n",
    "\\int d\\boldsymbol{x}\n",
    "\\ \\gamma(\\boldsymbol{x},t)\n",
    "\\left\\{\n",
    "\\boldsymbol{p}^{<}_{\\boldsymbol{k}} (\\boldsymbol{x},t)\n",
    "\\cdot\n",
    "\\nabla \\left[\n",
    "\\nabla \\cdot \\boldsymbol{p}^{<}_{\\boldsymbol{k}}\n",
    "\\right]\n",
    "\\right\\}^i\n",
    "\\end{eqnarray}\n",
    "$"
   ]
  },
  {
   "cell_type": "markdown",
   "metadata": {},
   "source": [
    "励起エネルギーの累計$\\mathscr{F}$は、"
   ]
  },
  {
   "cell_type": "markdown",
   "metadata": {},
   "source": [
    "$\n",
    "\\begin{eqnarray}\n",
    "\\mathscr{F}(\\boldsymbol{k},t) =\n",
    "\\frac{2}{N}\n",
    "\\int d\\boldsymbol{x}\n",
    "\\left\\{\n",
    "\\boldsymbol{p}^{<}_{\\boldsymbol{k}} (\\boldsymbol{x},t)\n",
    "\\cdot\n",
    "\\boldsymbol{F}^{<}_{\\boldsymbol{k}} (\\boldsymbol{x},t)\n",
    "\\right\\}^i\n",
    "\\end{eqnarray}\n",
    "$"
   ]
  },
  {
   "cell_type": "markdown",
   "metadata": {},
   "source": [
    "そして、波数$k$までの非圧縮運動エネルギー流束$\\Pi$は"
   ]
  },
  {
   "cell_type": "markdown",
   "metadata": {},
   "source": [
    "$\n",
    "\\begin{eqnarray}\n",
    "\\Pi(k,t) =\n",
    "\\frac{2}{N}\n",
    "\\int d\\boldsymbol{x}\n",
    "\\left[\n",
    "\\left\\{\n",
    "\\boldsymbol{p}^{<}_{\\boldsymbol{k}}(\\boldsymbol{x},t)\n",
    "\\cdot\n",
    "L_{\\boldsymbol{k}}\n",
    "\\left[\n",
    "\\boldsymbol{p}(\\boldsymbol{x},t)\n",
    "\\cdot\n",
    "\\nabla \\boldsymbol{v}(\\boldsymbol{x},t)\n",
    "\\right]\n",
    "\\right\\}^i\n",
    "\\right]\n",
    "\\end{eqnarray}\n",
    "$"
   ]
  },
  {
   "cell_type": "markdown",
   "metadata": {},
   "source": [
    "で示される。"
   ]
  },
  {
   "cell_type": "markdown",
   "metadata": {},
   "source": [
    "## 量子圧力項1"
   ]
  },
  {
   "cell_type": "markdown",
   "metadata": {},
   "source": [
    "#### 非線形Schrödinger方程式"
   ]
  },
  {
   "cell_type": "markdown",
   "metadata": {},
   "source": [
    "$\\begin{eqnarray}i\\hbar \\frac{\\partial \\Psi(\\boldsymbol{r},t)}{\\partial t} = \\left[ -\\frac{\\hbar^2 \\nabla^2}{2m} - \\mu + \\frac{4 \\pi \\hbar^2 a }{m} |\\Psi(\\boldsymbol{r},t)|^2 \\right]\\Psi(\\boldsymbol{r},t) \\end{eqnarray}$ (1)"
   ]
  },
  {
   "cell_type": "markdown",
   "metadata": {},
   "source": [
    "時間微分をゼロとおき、定常GP方程式を得る。"
   ]
  },
  {
   "cell_type": "markdown",
   "metadata": {},
   "source": [
    "$\\begin{eqnarray} \\left[ -\\frac{\\hbar^2 \\nabla^2}{2m} + V_{\\textrm{ext}}(\\boldsymbol{r}) + \\textrm{g} |\\Psi(\\boldsymbol{r},t)|^2 \\right] \\Psi(\\boldsymbol{r}) = \\mu \\Psi(\\boldsymbol{r}) \\end{eqnarray}$"
   ]
  },
  {
   "cell_type": "markdown",
   "metadata": {},
   "source": [
    "式(1)に左から$\\Psi^\\dagger$をかけて、連続の式を得る。"
   ]
  },
  {
   "cell_type": "markdown",
   "metadata": {},
   "source": [
    "$\\begin{eqnarray} \\frac{\\partial n(\\boldsymbol{r},t)}{\\partial t} + \\nabla \\cdot \\boldsymbol{j} \\ (\\boldsymbol{r},t) = 0 \\end{eqnarray}$"
   ]
  },
  {
   "cell_type": "markdown",
   "metadata": {},
   "source": [
    "確率密度$\\rho(\\boldsymbol{r})$、超流動体速度$\\boldsymbol{v} \\ (\\boldsymbol{r})$を以下におきかえる。"
   ]
  },
  {
   "cell_type": "markdown",
   "metadata": {},
   "source": [
    "$\\begin{eqnarray} \\left\\{ \\begin{array}{} \\rho(\\boldsymbol{r}) = |\\Psi(\\boldsymbol{r})|^2 \\\\ \\boldsymbol{v} \\ (\\boldsymbol{r}) = \\frac{\\hbar}{m} \\nabla \\theta(\\boldsymbol{r}) \\end{array} \\right. \\end{eqnarray}$"
   ]
  },
  {
   "cell_type": "markdown",
   "metadata": {},
   "source": [
    "$\\begin{eqnarray} \\frac{\\partial}{\\partial t} \\boldsymbol{v} \\ (\\boldsymbol{r},t) + \\frac{1}{2} \\nabla \\boldsymbol{v}^2 (\\boldsymbol{r},t) = - \\frac{1}{m \\rho(\\boldsymbol{r},t)} \\nabla P \\end{eqnarray}$"
   ]
  },
  {
   "cell_type": "markdown",
   "metadata": {},
   "source": [
    "超流動体全体は圧力勾配$\\nabla P$により駆動され、散逸は高波数側のエンストロフィーにより散逸する。"
   ]
  },
  {
   "cell_type": "markdown",
   "metadata": {},
   "source": [
    "量子圧力項$P(\\boldsymbol{r},t)$は、"
   ]
  },
  {
   "cell_type": "markdown",
   "metadata": {},
   "source": [
    "$\\begin{eqnarray} P(\\boldsymbol{r},t) = \\frac{\\hbar^2}{m}\\rho(\\boldsymbol{r},t) \\left[ 4 \\pi a \\rho (\\boldsymbol{r},t) - \\frac{\\nabla^2 \\sqrt{\\rho(\\boldsymbol{r},t)}}{2 \\sqrt{\\rho(\\boldsymbol{r},t)}} \\right] \\end{eqnarray}$"
   ]
  },
  {
   "cell_type": "markdown",
   "metadata": {},
   "source": [
    "## 量子圧力項2"
   ]
  },
  {
   "cell_type": "markdown",
   "metadata": {},
   "source": [
    "超流動体の運動エネルギーは以下のようにあらわせる。"
   ]
  },
  {
   "cell_type": "markdown",
   "metadata": {},
   "source": [
    "$\\begin{eqnarray} E_{kinetic} & = & -\\frac{1}{2} \\int d \\boldsymbol{r} \\tilde{\\Psi}^* \\tilde{\\nabla}^2 \\tilde{\\Psi},\n",
    "\\\\\n",
    "& = & \\frac{1}{2} d \\boldsymbol{r} | \\tilde{\\nabla} \\tilde{\\Psi} |^2, \\end{eqnarray}$"
   ]
  },
  {
   "cell_type": "markdown",
   "metadata": {},
   "source": [
    "$\\tilde{\\Psi}(\\boldsymbol{r}) = \\sqrt{\\rho(\\boldsymbol{r})} e^{i \\phi(\\boldsymbol{r})}$の変換を用いて、運動エネルギーを以下に分ける。"
   ]
  },
  {
   "cell_type": "markdown",
   "metadata": {},
   "source": [
    "$\\begin{eqnarray} \n",
    "E_{kinetic} & = & \\frac{1}{2} \\int \\left[\n",
    "\\rho \\left( \\tilde{\\nabla} \\phi \\right)^2\n",
    "+ \\left(\n",
    "\\tilde{\\nabla} \\sqrt{\\rho}\n",
    "\\right)^2\n",
    "\\right],\n",
    "\\\\\n",
    "& = & E_1 + E_2\n",
    "\\end{eqnarray}$"
   ]
  },
  {
   "cell_type": "markdown",
   "metadata": {},
   "source": [
    "$E_1=\\frac{1}{2}\\int d \\boldsymbol{r} \\left( \\tilde{\\nabla} \\phi \\right)^2$は古典的な運動エネルギー項をあらわし、"
   ]
  },
  {
   "cell_type": "markdown",
   "metadata": {},
   "source": [
    "$E_2=\\frac{1}{2}\\int d \\boldsymbol{r} \\left( \\tilde{\\nabla} \\sqrt{\\rho} \\right)^2$は量子圧力項をあらわす。"
   ]
  },
  {
   "cell_type": "markdown",
   "metadata": {},
   "source": [
    "### 板ポテンシャルの圧力仕事率\n",
    "$\\begin{eqnarray} 2M \\ddot{X} = -\\frac{\\partial U_{\\textrm{pot}}}{\\partial X},\n",
    "2M \\ddot{Y} = -\\frac{\\partial U_{\\textrm{pot}}}{\\partial Y},\n",
    "2M \\ddot{Z} = -\\frac{\\partial U_{\\textrm{pot}}}{\\partial Z}\n",
    "\\end{eqnarray}$"
   ]
  },
  {
   "cell_type": "markdown",
   "metadata": {},
   "source": [
    "$x$方向を等速度で往復する湯もみ板ポテンシャル$v_j$が受ける圧力のEnergy Rateについて"
   ]
  },
  {
   "cell_type": "markdown",
   "metadata": {},
   "source": [
    "$\\begin{eqnarray}\n",
    "\\epsilon = \\int \\left|- \\frac{\\partial U_{\\textrm{pot}}}{\\partial X} \\right|| u_x(x,y,z,t)| d \\boldsymbol{r}\n",
    "\\end{eqnarray}$"
   ]
  },
  {
   "cell_type": "markdown",
   "metadata": {},
   "source": [
    "$\\begin{eqnarray}\n",
    "v_{j}(x,y,z) = \\mu_0 \\exp \\left\\{\n",
    "f_{\\textrm{pot}} \\left[\n",
    "{\\xi_j} \\cdot \n",
    "{\\eta_j} \\cdot \n",
    "{\\zeta_j}\n",
    "\\right]\n",
    "\\right\\},\n",
    "\\end{eqnarray}$"
   ]
  },
  {
   "cell_type": "markdown",
   "metadata": {},
   "source": [
    "$\\begin{eqnarray}\n",
    "V(x,y,z) = \\sum_j v_j(x,y,z),\n",
    "\\end{eqnarray}$"
   ]
  },
  {
   "cell_type": "markdown",
   "metadata": {},
   "source": [
    "$\\begin{eqnarray}\n",
    "U_{\\textrm{pot}}(X,Y,Z;\\Psi)= \\int V |\\Psi|^2 d \\boldsymbol{r},\n",
    "\\end{eqnarray}$"
   ]
  },
  {
   "cell_type": "markdown",
   "metadata": {},
   "source": [
    "$\\begin{eqnarray}\n",
    "\\left\\{\n",
    "\\begin{array}{}\n",
    "\\xi_j & = & 1, \\ \\left( 0 < lt \\le \\textrm{MAXX} \\right),\n",
    "\\\\\n",
    "\\eta_j & = & 1, \\ \\left( \\frac{1}{4}\\textrm{MAXY} < lt \\le \\frac{3}{4}\\textrm{MAXY} \\right),\n",
    "\\\\\n",
    "\\zeta_j & = & 1\n",
    "\\end{array}\n",
    "\\right.\n",
    "\\end{eqnarray}$"
   ]
  },
  {
   "cell_type": "markdown",
   "metadata": {},
   "source": [
    "$\\begin{eqnarray}\n",
    "lt = \\textrm{MAXX} \\cdot \\frac{11}{3 \\pi} \n",
    "\\left[\n",
    "\\sin(\\omega t)\n",
    "- \\frac{1}{9} \\sin(3\\omega t)\n",
    "+ \\frac{1}{25} \\sin(5\\omega t)\n",
    "- \\frac{1}{49} \\sin(7\\omega t)\n",
    "+ \\frac{1}{81} \\sin(9\\omega t)\n",
    "- \\frac{1}{121} \\sin(11\\omega t)\n",
    "\\right]\n",
    "\\end{eqnarray}$"
   ]
  },
  {
   "cell_type": "code",
   "execution_count": 3,
   "metadata": {},
   "outputs": [
    {
     "data": {
      "image/png": "[encoded data removed]",
      "text/plain": [
       "<Figure size 432x288 with 1 Axes>"
      ]
     },
     "metadata": {
      "needs_background": "light"
     },
     "output_type": "display_data"
    }
   ],
   "source": [
    "import numpy as np\n",
    "import matplotlib.pyplot as plt\n",
    "\n",
    "x = np.linspace(-3*np.pi, 3*np.pi, 100)\n",
    "y = np.sin(x) - (1/11)*np.sin(3*x) + (1/25)*np.sin(5*x) - (1/49)*np.sin(7*x) + (1/81)*np.sin(9*x) - (1/121)*np.sin(11*x)\n",
    "plt.plot(x,y)\n",
    "plt.xlabel(\"t\")\n",
    "plt.ylabel(\"x(t)\")\n",
    "plt.show()"
   ]
  },
  {
   "cell_type": "markdown",
   "metadata": {},
   "source": [
    "### 量子Hinze Scale / 斎藤先生"
   ]
  },
  {
   "cell_type": "markdown",
   "metadata": {},
   "source": [
    "1.はドロップレットを壊すエネルギー、2., 3.は分解を防ぐエネルギー"
   ]
  },
  {
   "cell_type": "markdown",
   "metadata": {},
   "source": [
    "1. 運動エネルギー"
   ]
  },
  {
   "cell_type": "markdown",
   "metadata": {},
   "source": [
    "$\\begin{eqnarray}\n",
    "\\frac{1}{2} m \\langle v^2 \\rangle n D^3 & \\sim & \\rho \\langle v^2 \\rangle  D^3 \\ , \\ \\langle v^2 \\rangle \\sim c_1 \\left( \\epsilon D \\right)^{2/3}\n",
    "\\\\\n",
    "& \\sim & \\rho \\epsilon^{2/3} D^{11/3}\n",
    "\\end{eqnarray}$"
   ]
  },
  {
   "cell_type": "markdown",
   "metadata": {},
   "source": [
    "2. 界面エネルギー"
   ]
  },
  {
   "cell_type": "markdown",
   "metadata": {},
   "source": [
    "$\\begin{eqnarray}\n",
    "4 \\pi \\sigma D^2 \\sim \\sigma D^2\n",
    "\\end{eqnarray}$"
   ]
  },
  {
   "cell_type": "markdown",
   "metadata": {},
   "source": [
    "3. 量子的な運動エネルギー"
   ]
  },
  {
   "cell_type": "markdown",
   "metadata": {},
   "source": [
    "$\\begin{eqnarray}\n",
    "\\frac{\\hbar^2}{2 m D^2} n D^3 \\sim \\frac{n \\hbar^2}{m} D\n",
    "\\end{eqnarray}$"
   ]
  },
  {
   "cell_type": "markdown",
   "metadata": {},
   "source": [
    "2 >> 3 のとき"
   ]
  },
  {
   "cell_type": "markdown",
   "metadata": {},
   "source": [
    "$\\begin{eqnarray}\n",
    "\\sigma D^2 & \\sim & \\rho \\epsilon^{2/3} D^{11/3}\n",
    "\\\\\n",
    "D^{5/3} & \\sim & \\frac{\\sigma}{\\rho}\\epsilon^{-2/3}\n",
    "\\\\\n",
    "D & \\sim & \\left(\\frac{\\sigma}{\\rho}\\right)^{3/5} \\epsilon^{-2/5} \\ , \\ \\textrm{Hinze Scale}\n",
    "\\end{eqnarray}$"
   ]
  },
  {
   "cell_type": "markdown",
   "metadata": {},
   "source": [
    "2 << 3 のとき"
   ]
  },
  {
   "cell_type": "markdown",
   "metadata": {},
   "source": [
    "<span style=\"color: red; \">\n",
    " 　Kolmogorov Dissipation Scale の粘性$\\nu$に$\\hbar/m$を代入したものに一致\n",
    "</span>"
   ]
  },
  {
   "cell_type": "markdown",
   "metadata": {},
   "source": [
    "$\\begin{eqnarray}\n",
    "\\frac{n \\hbar^2}{m} D & \\sim & \\rho \\epsilon^{2/3} D^{11/3}\n",
    "\\\\\n",
    "D^{8/3} & \\sim & \\left(\\frac{\\hbar}{m}\\right)^2 \\epsilon^{-2/3}\n",
    "\\\\\n",
    "D & \\sim & \\left(\\frac{\\hbar}{m}\\right)^{3/4} \\epsilon^{-1/4}\n",
    "\\end{eqnarray}$"
   ]
  },
  {
   "cell_type": "markdown",
   "metadata": {},
   "source": [
    "### 三次元二成分系の有効渦度 $\\omega_{eff}$"
   ]
  },
  {
   "cell_type": "markdown",
   "metadata": {},
   "source": [
    "ref. Quantum Kelvin-Helmholtz instability ..., PRB $\\boldsymbol{81}$, 094517 (2010)"
   ]
  },
  {
   "cell_type": "markdown",
   "metadata": {},
   "source": [
    "$\\begin{eqnarray}\n",
    "\\boldsymbol{v}_{\\textrm{eff}} & = & \\frac{m_1 n_1 \\boldsymbol{v}_1 + m_2 n_2 \\boldsymbol{v}_2}{_1 n_1 + m_2 n_2}\n",
    "\\\\\n",
    "\\boldsymbol{\\omega}_{\\textrm{eff}} & = & \n",
    "\\sqrt{ \\sum_{x,y,z} \\left(\\nabla \\times \\boldsymbol{v}_{\\textrm{eff}} \\right)^2 }\n",
    "\\end{eqnarray}$"
   ]
  },
  {
   "cell_type": "markdown",
   "metadata": {},
   "source": [
    "### σ依存性"
   ]
  },
  {
   "cell_type": "markdown",
   "metadata": {},
   "source": [
    "検証4パターン ：　2値化 有/無、波数のazimuth平均/相関関数(実空間) の2×2パターン"
   ]
  },
  {
   "cell_type": "markdown",
   "metadata": {},
   "source": [
    "### 相関関数 (実空間)"
   ]
  },
  {
   "cell_type": "markdown",
   "metadata": {},
   "source": [
    "ref. Universal Coarsening Dynamics of ..., P. B. Blakie, PRL. $\\boldsymbol{116}$, 025301 (2016)"
   ]
  },
  {
   "cell_type": "markdown",
   "metadata": {},
   "source": [
    "$\\begin{eqnarray}\n",
    "G(\\boldsymbol{r}) & = & \\int \\phi(\\boldsymbol{x}+\\boldsymbol{r})\\phi(\\boldsymbol{x}) d \\boldsymbol{x}\n",
    "= \\frac{1}{(2\\pi)^3}\\int ||\\tilde{\\phi}(\\boldsymbol{k})||^2 e^{-i \\boldsymbol{k}\\cdot(\\boldsymbol{x}-\\boldsymbol{x}^\\prime)} d \\boldsymbol{k}\n",
    "\\\\\n",
    "& & \\tilde{\\phi}(\\boldsymbol{k}) = \\int \\phi(\\boldsymbol{x})e^{-i \\boldsymbol{k} \\cdot \\boldsymbol{x}} d \\boldsymbol{x}\n",
    "\\\\\n",
    "\\int \\tilde{\\phi}(\\boldsymbol{k}) \\tilde{\\phi}(-\\boldsymbol{k}) e^{-i \\boldsymbol{k} \\cdot \\boldsymbol{x}} \\frac{d \\boldsymbol{k}}{(2 \\pi)^3} \n",
    "& = & \\frac{1}{(2\\pi)^3} \\int d \\boldsymbol{k} e^{-i \\boldsymbol{k} \\cdot \\boldsymbol{x}} \n",
    "\\int \\phi(\\boldsymbol{x}) e^{-i \\boldsymbol{k} \\cdot \\boldsymbol{x}} d \\boldsymbol{x}\n",
    "\\int \\phi(\\boldsymbol{x}^\\prime) e^{i \\boldsymbol{k} \\cdot \\boldsymbol{x}^\\prime} d \\boldsymbol{x}^\\prime\n",
    "\\\\\n",
    "& = & \\int d \\boldsymbol{x} \\ d \\boldsymbol{x}^\\prime \\phi (\\boldsymbol{x}) \\phi (\\boldsymbol{x}^\\prime)\n",
    "\\delta(\\boldsymbol{r} + \\boldsymbol{x} - \\boldsymbol{x}^\\prime)\n",
    "\\\\\n",
    "& = & G(\\boldsymbol{r})\n",
    "\\end{eqnarray}$"
   ]
  },
  {
   "cell_type": "markdown",
   "metadata": {},
   "source": []
  }
 ],
 "metadata": {
  "kernelspec": {
   "display_name": "Python 3",
   "language": "python",
   "name": "python3"
  },
  "language_info": {
   "codemirror_mode": {
    "name": "ipython",
    "version": 3
   },
   "file_extension": ".py",
   "mimetype": "text/x-python",
   "name": "python",
   "nbconvert_exporter": "python",
   "pygments_lexer": "ipython3",
   "version": "3.8.8"
  }
 },
 "nbformat": 4,
 "nbformat_minor": 2
}
